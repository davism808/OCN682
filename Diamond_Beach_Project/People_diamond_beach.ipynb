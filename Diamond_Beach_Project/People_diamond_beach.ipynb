{
 "cells": [
  {
   "cell_type": "code",
   "execution_count": 62,
   "id": "736e79a6",
   "metadata": {},
   "outputs": [],
   "source": [
    "library(tidyverse)"
   ]
  },
  {
   "cell_type": "code",
   "execution_count": 72,
   "id": "3cbd4750",
   "metadata": {},
   "outputs": [],
   "source": [
    "library(readxl)"
   ]
  },
  {
   "cell_type": "code",
   "execution_count": 90,
   "id": "d07beaa5",
   "metadata": {},
   "outputs": [],
   "source": [
    "?readxl"
   ]
  },
  {
   "cell_type": "code",
   "execution_count": 89,
   "id": "782a580e",
   "metadata": {},
   "outputs": [
    {
     "ename": "ERROR",
     "evalue": "Error: `path` does not exist: ‘C:/Users/madidavis/Desktop/Diamond_Beach_Project/People_untidy_MD.xlsx’\n",
     "output_type": "error",
     "traceback": [
      "Error: `path` does not exist: ‘C:/Users/madidavis/Desktop/Diamond_Beach_Project/People_untidy_MD.xlsx’\nTraceback:\n",
      "1. read_excel(\"C:/Users/madidavis/Desktop/Diamond_Beach_Project/People_untidy_MD.xlsx\")",
      "2. check_file(path)",
      "3. stop(\"`path` does not exist: \", sQuote(path), call. = FALSE)"
     ]
    }
   ],
   "source": [
    "ppl_data <- read_excel(\"C:/Users/madidavis/Desktop/Diamond_Beach_Project/People_untidy_MD.xlsx\")"
   ]
  },
  {
   "cell_type": "code",
   "execution_count": null,
   "id": "3fd93f2a",
   "metadata": {},
   "outputs": [],
   "source": []
  }
 ],
 "metadata": {
  "kernelspec": {
   "display_name": "R",
   "language": "R",
   "name": "ir"
  },
  "language_info": {
   "codemirror_mode": "r",
   "file_extension": ".r",
   "mimetype": "text/x-r-source",
   "name": "R",
   "pygments_lexer": "r",
   "version": "4.2.1"
  }
 },
 "nbformat": 4,
 "nbformat_minor": 5
}
