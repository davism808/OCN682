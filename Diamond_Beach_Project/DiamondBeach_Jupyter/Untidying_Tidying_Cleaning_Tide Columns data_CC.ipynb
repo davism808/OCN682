{
 "cells": [
  {
   "cell_type": "code",
   "execution_count": 1,
   "id": "5e168a99",
   "metadata": {},
   "outputs": [
    {
     "name": "stderr",
     "output_type": "stream",
     "text": [
      "── \u001b[1mAttaching packages\u001b[22m ─────────────────────────────────────── tidyverse 1.3.2 ──\n",
      "\u001b[32m✔\u001b[39m \u001b[34mggplot2\u001b[39m 3.3.6      \u001b[32m✔\u001b[39m \u001b[34mpurrr  \u001b[39m 0.3.4 \n",
      "\u001b[32m✔\u001b[39m \u001b[34mtibble \u001b[39m 3.1.8      \u001b[32m✔\u001b[39m \u001b[34mdplyr  \u001b[39m 1.0.10\n",
      "\u001b[32m✔\u001b[39m \u001b[34mtidyr  \u001b[39m 1.2.1      \u001b[32m✔\u001b[39m \u001b[34mstringr\u001b[39m 1.4.1 \n",
      "\u001b[32m✔\u001b[39m \u001b[34mreadr  \u001b[39m 2.1.2      \u001b[32m✔\u001b[39m \u001b[34mforcats\u001b[39m 0.5.2 \n",
      "── \u001b[1mConflicts\u001b[22m ────────────────────────────────────────── tidyverse_conflicts() ──\n",
      "\u001b[31m✖\u001b[39m \u001b[34mdplyr\u001b[39m::\u001b[32mfilter()\u001b[39m masks \u001b[34mstats\u001b[39m::filter()\n",
      "\u001b[31m✖\u001b[39m \u001b[34mdplyr\u001b[39m::\u001b[32mlag()\u001b[39m    masks \u001b[34mstats\u001b[39m::lag()\n"
     ]
    }
   ],
   "source": [
    "library(tidyverse)\n",
    "library(ggplot2)"
   ]
  },
  {
   "cell_type": "code",
   "execution_count": 17,
   "id": "291391e4",
   "metadata": {},
   "outputs": [
    {
     "name": "stdout",
     "output_type": "stream",
     "text": [
      "'data.frame':\t90 obs. of  6 variables:\n",
      " $ Date    : int  20220628 20220628 20220628 20220628 20220628 20220628 20220628 20220628 20220628 20220628 ...\n",
      " $ Moon    : chr  \"Muku\" \"Muku\" \"Muku\" \"Muku\" ...\n",
      " $ Time    : num  0 0 0 4 4 4 8 8 8 9 ...\n",
      " $ Tide    : num  0.271 0.271 0.271 0.505 0.505 ...\n",
      " $ PreTide : num  0.24 0.24 0.24 0.54 0.54 0.54 0.54 0.54 0.54 -0.15 ...\n",
      " $ PostTide: num  0.54 0.54 0.54 -0.15 -0.15 -0.15 -0.15 -0.15 -0.15 2.28 ...\n"
     ]
    }
   ],
   "source": [
    "### Kaimana_tide dataset\n",
    "Kaimana_data <- read.csv(\"Kaimana_tide.csv\")\n",
    "str(Kaimana_data)"
   ]
  },
  {
   "cell_type": "code",
   "execution_count": 18,
   "id": "0a41e506",
   "metadata": {},
   "outputs": [
    {
     "name": "stdout",
     "output_type": "stream",
     "text": [
      "'data.frame':\t90 obs. of  7 variables:\n",
      " $ Date            : int  20220628 20220628 20220628 20220628 20220628 20220628 20220628 20220628 20220628 20220628 ...\n",
      " $ Moon            : chr  \"Muku\" \"Muku\" \"Muku\" \"Muku\" ...\n",
      " $ Time            : num  0 0 0 4 4 4 8 8 8 9 ...\n",
      " $ Tide            : num  0.271 0.271 0.271 0.505 0.505 ...\n",
      " $ PreTide         : num  0.24 0.24 0.24 0.54 0.54 0.54 0.54 0.54 0.54 -0.15 ...\n",
      " $ PostTide        : num  0.54 0.54 0.54 -0.15 -0.15 -0.15 -0.15 -0.15 -0.15 2.28 ...\n",
      " $ PreTide_PostTide: chr  \"0.24_0.54\" \"0.24_0.54\" \"0.24_0.54\" \"0.54_-0.15\" ...\n"
     ]
    }
   ],
   "source": [
    "### Combining PreTide and PostTide columns into one\n",
    "Kaimana_data$PreTide_PostTide <- paste(Kaimana_data$PreTide, Kaimana_data$PostTide, sep=\"_\")\n",
    "str(Kaimana_data)"
   ]
  },
  {
   "cell_type": "code",
   "execution_count": 22,
   "id": "f75a737a",
   "metadata": {},
   "outputs": [
    {
     "name": "stdout",
     "output_type": "stream",
     "text": [
      "'data.frame':\t90 obs. of  5 variables:\n",
      " $ Date            : int  20220628 20220628 20220628 20220628 20220628 20220628 20220628 20220628 20220628 20220628 ...\n",
      " $ Moon            : chr  \"Muku\" \"Muku\" \"Muku\" \"Muku\" ...\n",
      " $ Time            : num  0 0 0 4 4 4 8 8 8 9 ...\n",
      " $ Tide            : num  0.271 0.271 0.271 0.505 0.505 ...\n",
      " $ PreTide_PostTide: chr  \"0.24_0.54\" \"0.24_0.54\" \"0.24_0.54\" \"0.54_-0.15\" ...\n"
     ]
    }
   ],
   "source": [
    "### Removing old columns\n",
    "##download this one as csv\n",
    "Kaimana_data_new <- Kaimana_data[c(\"Date\", \"Moon\", \"Time\", \"Tide\", \"PreTide_PostTide\")]\n",
    "str(Kaimana_data_new)\n",
    "write.csv(Kaimana_data_new, \"tide.csv\")"
   ]
  },
  {
   "cell_type": "code",
   "execution_count": 34,
   "id": "774e9f09",
   "metadata": {},
   "outputs": [],
   "source": [
    "tide <- read.csv(\"tide.csv\")"
   ]
  },
  {
   "cell_type": "code",
   "execution_count": 35,
   "id": "fad55e39",
   "metadata": {},
   "outputs": [
    {
     "name": "stdout",
     "output_type": "stream",
     "text": [
      "'data.frame':\t90 obs. of  8 variables:\n",
      " $ X               : int  1 2 3 4 5 6 7 8 9 10 ...\n",
      " $ Date            : int  20220628 20220628 20220628 20220628 20220628 20220628 20220628 20220628 20220628 20220628 ...\n",
      " $ Moon            : chr  \"Muku\" \"Muku\" \"Muku\" \"Muku\" ...\n",
      " $ Time            : int  0 0 0 4 4 4 8 8 8 9 ...\n",
      " $ Tide            : num  0.271 0.271 0.271 0.505 0.505 ...\n",
      " $ PreTide_PostTide: chr  \"0.24_0.54\" \"0.24_0.54\" \"0.24_0.54\" \"0.54_-0.15\" ...\n",
      " $ PreTide         : chr  \"0.24\" \"0.24\" \"0.24\" \"0.54\" ...\n",
      " $ PostTide        : chr  \"0.54\" \"0.54\" \"0.54\" \"-0.15\" ...\n"
     ]
    }
   ],
   "source": [
    "### Tidying up the data again (Cleaning)\n",
    "tide[c('PreTide', 'PostTide')] <- str_split_fixed(tide$PreTide_PostTide, '_', 2)\n",
    "str(tide)"
   ]
  },
  {
   "cell_type": "code",
   "execution_count": 37,
   "id": "7d374b18",
   "metadata": {},
   "outputs": [
    {
     "name": "stdout",
     "output_type": "stream",
     "text": [
      "'data.frame':\t90 obs. of  6 variables:\n",
      " $ Date    : int  20220628 20220628 20220628 20220628 20220628 20220628 20220628 20220628 20220628 20220628 ...\n",
      " $ Moon    : chr  \"Muku\" \"Muku\" \"Muku\" \"Muku\" ...\n",
      " $ Time    : int  0 0 0 4 4 4 8 8 8 9 ...\n",
      " $ Tide    : num  0.271 0.271 0.271 0.505 0.505 ...\n",
      " $ PreTide : chr  \"0.24\" \"0.24\" \"0.24\" \"0.54\" ...\n",
      " $ PostTide: chr  \"0.54\" \"0.54\" \"0.54\" \"-0.15\" ...\n"
     ]
    }
   ],
   "source": [
    "### Removing extra joint column (Cleaning)\n",
    "tide_2 <- tide[c(\"Date\", \"Moon\", \"Time\", \"Tide\", \"PreTide\", \"PostTide\")]\n",
    "str(tide_2)"
   ]
  },
  {
   "cell_type": "code",
   "execution_count": 38,
   "id": "fb6f3db5",
   "metadata": {
    "scrolled": true
   },
   "outputs": [
    {
     "name": "stdout",
     "output_type": "stream",
     "text": [
      "'data.frame':\t90 obs. of  6 variables:\n",
      " $ Date    : int  20220628 20220628 20220628 20220628 20220628 20220628 20220628 20220628 20220628 20220628 ...\n",
      " $ Moon    : chr  \"Muku\" \"Muku\" \"Muku\" \"Muku\" ...\n",
      " $ Time    : int  0 0 0 4 4 4 8 8 8 9 ...\n",
      " $ Tide    : num  0.0826 0.0826 0.0826 0.1541 0.1541 ...\n",
      " $ PreTide : chr  \"0.24\" \"0.24\" \"0.24\" \"0.54\" ...\n",
      " $ PostTide: chr  \"0.54\" \"0.54\" \"0.54\" \"-0.15\" ...\n"
     ]
    }
   ],
   "source": [
    "### Convert Tide column from inches to meters\n",
    "tide_2$Tide <- tide_2$Tide * 0.3048\n",
    "str(tide_2)"
   ]
  },
  {
   "cell_type": "code",
   "execution_count": 30,
   "id": "fe71afe9",
   "metadata": {},
   "outputs": [
    {
     "name": "stdout",
     "output_type": "stream",
     "text": [
      "'data.frame':\t90 obs. of  6 variables:\n",
      " $ Date    : int  20220628 20220628 20220628 20220628 20220628 20220628 20220628 20220628 20220628 20220628 ...\n",
      " $ Moon    : chr  \"Muku\" \"Muku\" \"Muku\" \"Muku\" ...\n",
      " $ Time    : num  0 0 0 4 4 4 8 8 8 9 ...\n",
      " $ Tide    : num  0.0826 0.0826 0.0826 0.1541 0.1541 ...\n",
      " $ PreTide : num  0.24 0.24 0.24 0.54 0.54 0.54 0.54 0.54 0.54 -0.15 ...\n",
      " $ PostTide: num  0.54 0.54 0.54 -0.15 -0.15 -0.15 -0.15 -0.15 -0.15 2.28 ...\n"
     ]
    }
   ],
   "source": [
    "### Changing PreTide and PostTide columns from character to double strings\n",
    "tide_2$PreTide = as.double(tide_2$PreTide)\n",
    "tide_2$PostTide = as.double(tide_2$PostTide)\n",
    "str(Kaimana_data_updated)"
   ]
  },
  {
   "cell_type": "code",
   "execution_count": 31,
   "id": "fbff8379",
   "metadata": {},
   "outputs": [
    {
     "name": "stdout",
     "output_type": "stream",
     "text": [
      "'data.frame':\t90 obs. of  6 variables:\n",
      " $ Date    : int  20220628 20220628 20220628 20220628 20220628 20220628 20220628 20220628 20220628 20220628 ...\n",
      " $ Moon    : chr  \"Muku\" \"Muku\" \"Muku\" \"Muku\" ...\n",
      " $ Time    : num  0 0 0 4 4 4 8 8 8 9 ...\n",
      " $ Tide    : num  0.0826 0.0826 0.0826 0.1541 0.1541 ...\n",
      " $ PreTide : num  0.0732 0.0732 0.0732 0.1646 0.1646 ...\n",
      " $ PostTide: num  0.1646 0.1646 0.1646 -0.0457 -0.0457 ...\n"
     ]
    }
   ],
   "source": [
    "### Convert PreTide and PostTide columns from inches to meters\n",
    "Kaimana_data_updated$PreTide <- Kaimana_data_updated$PreTide * 0.3048\n",
    "Kaimana_data_updated$PostTide <- Kaimana_data_updated$PostTide * 0.3048\n",
    "str(Kaimana_data_updated)"
   ]
  },
  {
   "cell_type": "code",
   "execution_count": null,
   "id": "b343f633",
   "metadata": {},
   "outputs": [],
   "source": []
  },
  {
   "cell_type": "code",
   "execution_count": null,
   "id": "e4f8ba31",
   "metadata": {},
   "outputs": [],
   "source": []
  }
 ],
 "metadata": {
  "kernelspec": {
   "display_name": "R",
   "language": "R",
   "name": "ir"
  },
  "language_info": {
   "codemirror_mode": "r",
   "file_extension": ".r",
   "mimetype": "text/x-r-source",
   "name": "R",
   "pygments_lexer": "r",
   "version": "4.2.1"
  }
 },
 "nbformat": 4,
 "nbformat_minor": 5
}
