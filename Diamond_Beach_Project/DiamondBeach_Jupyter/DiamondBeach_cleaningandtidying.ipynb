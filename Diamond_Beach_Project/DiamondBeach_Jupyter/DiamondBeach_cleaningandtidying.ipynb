{
 "cells": [
  {
   "cell_type": "code",
   "execution_count": 1,
   "id": "94af954b",
   "metadata": {},
   "outputs": [
    {
     "name": "stderr",
     "output_type": "stream",
     "text": [
      "── \u001b[1mAttaching packages\u001b[22m ─────────────────────────────────────── tidyverse 1.3.2 ──\n",
      "\u001b[32m✔\u001b[39m \u001b[34mggplot2\u001b[39m 3.3.6      \u001b[32m✔\u001b[39m \u001b[34mpurrr  \u001b[39m 0.3.4 \n",
      "\u001b[32m✔\u001b[39m \u001b[34mtibble \u001b[39m 3.1.8      \u001b[32m✔\u001b[39m \u001b[34mdplyr  \u001b[39m 1.0.10\n",
      "\u001b[32m✔\u001b[39m \u001b[34mtidyr  \u001b[39m 1.2.1      \u001b[32m✔\u001b[39m \u001b[34mstringr\u001b[39m 1.4.1 \n",
      "\u001b[32m✔\u001b[39m \u001b[34mreadr  \u001b[39m 2.1.2      \u001b[32m✔\u001b[39m \u001b[34mforcats\u001b[39m 0.5.2 \n",
      "── \u001b[1mConflicts\u001b[22m ────────────────────────────────────────── tidyverse_conflicts() ──\n",
      "\u001b[31m✖\u001b[39m \u001b[34mdplyr\u001b[39m::\u001b[32mfilter()\u001b[39m masks \u001b[34mstats\u001b[39m::filter()\n",
      "\u001b[31m✖\u001b[39m \u001b[34mdplyr\u001b[39m::\u001b[32mlag()\u001b[39m    masks \u001b[34mstats\u001b[39m::lag()\n"
     ]
    }
   ],
   "source": [
    "library(tidyverse)"
   ]
  },
  {
   "cell_type": "code",
   "execution_count": 2,
   "id": "56f575c0",
   "metadata": {},
   "outputs": [],
   "source": [
    "library(readxl)"
   ]
  },
  {
   "cell_type": "code",
   "execution_count": 3,
   "id": "c29f3b51",
   "metadata": {},
   "outputs": [
    {
     "data": {
      "text/html": [
       "<table class=\"dataframe\">\n",
       "<caption>A tibble: 6 × 5</caption>\n",
       "<thead>\n",
       "\t<tr><th scope=col>Moon</th><th scope=col>People_total</th><th scope=col>msq</th><th scope=col>Date</th><th scope=col>Time</th></tr>\n",
       "\t<tr><th scope=col>&lt;chr&gt;</th><th scope=col>&lt;dbl&gt;</th><th scope=col>&lt;dbl&gt;</th><th scope=col>&lt;dbl&gt;</th><th scope=col>&lt;dbl&gt;</th></tr>\n",
       "</thead>\n",
       "<tbody>\n",
       "\t<tr><td>Muku</td><td>NA</td><td>8059.53</td><td>20220628</td><td>0</td></tr>\n",
       "\t<tr><td>Muku</td><td>NA</td><td>8059.53</td><td>20220628</td><td>0</td></tr>\n",
       "\t<tr><td>Muku</td><td>NA</td><td>8059.53</td><td>20220628</td><td>0</td></tr>\n",
       "\t<tr><td>Muku</td><td>NA</td><td>8059.53</td><td>20220628</td><td>4</td></tr>\n",
       "\t<tr><td>Muku</td><td>NA</td><td>8059.53</td><td>20220628</td><td>4</td></tr>\n",
       "\t<tr><td>Muku</td><td>NA</td><td>8059.53</td><td>20220628</td><td>4</td></tr>\n",
       "</tbody>\n",
       "</table>\n"
      ],
      "text/latex": [
       "A tibble: 6 × 5\n",
       "\\begin{tabular}{lllll}\n",
       " Moon & People\\_total & msq & Date & Time\\\\\n",
       " <chr> & <dbl> & <dbl> & <dbl> & <dbl>\\\\\n",
       "\\hline\n",
       "\t Muku & NA & 8059.53 & 20220628 & 0\\\\\n",
       "\t Muku & NA & 8059.53 & 20220628 & 0\\\\\n",
       "\t Muku & NA & 8059.53 & 20220628 & 0\\\\\n",
       "\t Muku & NA & 8059.53 & 20220628 & 4\\\\\n",
       "\t Muku & NA & 8059.53 & 20220628 & 4\\\\\n",
       "\t Muku & NA & 8059.53 & 20220628 & 4\\\\\n",
       "\\end{tabular}\n"
      ],
      "text/markdown": [
       "\n",
       "A tibble: 6 × 5\n",
       "\n",
       "| Moon &lt;chr&gt; | People_total &lt;dbl&gt; | msq &lt;dbl&gt; | Date &lt;dbl&gt; | Time &lt;dbl&gt; |\n",
       "|---|---|---|---|---|\n",
       "| Muku | NA | 8059.53 | 20220628 | 0 |\n",
       "| Muku | NA | 8059.53 | 20220628 | 0 |\n",
       "| Muku | NA | 8059.53 | 20220628 | 0 |\n",
       "| Muku | NA | 8059.53 | 20220628 | 4 |\n",
       "| Muku | NA | 8059.53 | 20220628 | 4 |\n",
       "| Muku | NA | 8059.53 | 20220628 | 4 |\n",
       "\n"
      ],
      "text/plain": [
       "  Moon People_total msq     Date     Time\n",
       "1 Muku NA           8059.53 20220628 0   \n",
       "2 Muku NA           8059.53 20220628 0   \n",
       "3 Muku NA           8059.53 20220628 0   \n",
       "4 Muku NA           8059.53 20220628 4   \n",
       "5 Muku NA           8059.53 20220628 4   \n",
       "6 Muku NA           8059.53 20220628 4   "
      ]
     },
     "metadata": {},
     "output_type": "display_data"
    }
   ],
   "source": [
    "#List excel sheets\n",
    "combined_data <- excel_sheets(\"2_People_untidy_MD.xlsx\") %>% map_df(~read_xlsx(\"2_People_untidy_MD.xlsx\",.))\n",
    "head(combined_data)"
   ]
  },
  {
   "cell_type": "code",
   "execution_count": 4,
   "id": "7d5bccf5",
   "metadata": {},
   "outputs": [],
   "source": [
    "#Replace missing values with 0\n",
    "combined_data[is.na(combined_data)] <- 0"
   ]
  },
  {
   "cell_type": "code",
   "execution_count": 5,
   "id": "03fd76fe",
   "metadata": {},
   "outputs": [],
   "source": [
    "# Divide People_total / msq to get total ppl_msq\n",
    "combined_data$ppl_msq <- (combined_data$People_total / combined_data$msq)"
   ]
  },
  {
   "cell_type": "code",
   "execution_count": 6,
   "id": "5d8838a9",
   "metadata": {},
   "outputs": [
    {
     "data": {
      "text/html": [
       "<table class=\"dataframe\">\n",
       "<caption>A tibble: 6 × 6</caption>\n",
       "<thead>\n",
       "\t<tr><th scope=col>Moon</th><th scope=col>People_total</th><th scope=col>msq</th><th scope=col>Date</th><th scope=col>Time</th><th scope=col>ppl_msq</th></tr>\n",
       "\t<tr><th scope=col>&lt;chr&gt;</th><th scope=col>&lt;dbl&gt;</th><th scope=col>&lt;dbl&gt;</th><th scope=col>&lt;dbl&gt;</th><th scope=col>&lt;dbl&gt;</th><th scope=col>&lt;dbl&gt;</th></tr>\n",
       "</thead>\n",
       "<tbody>\n",
       "\t<tr><td>Muku</td><td>0</td><td>8059.53</td><td>20220628</td><td>0</td><td>0</td></tr>\n",
       "\t<tr><td>Muku</td><td>0</td><td>8059.53</td><td>20220628</td><td>0</td><td>0</td></tr>\n",
       "\t<tr><td>Muku</td><td>0</td><td>8059.53</td><td>20220628</td><td>0</td><td>0</td></tr>\n",
       "\t<tr><td>Muku</td><td>0</td><td>8059.53</td><td>20220628</td><td>4</td><td>0</td></tr>\n",
       "\t<tr><td>Muku</td><td>0</td><td>8059.53</td><td>20220628</td><td>4</td><td>0</td></tr>\n",
       "\t<tr><td>Muku</td><td>0</td><td>8059.53</td><td>20220628</td><td>4</td><td>0</td></tr>\n",
       "</tbody>\n",
       "</table>\n"
      ],
      "text/latex": [
       "A tibble: 6 × 6\n",
       "\\begin{tabular}{llllll}\n",
       " Moon & People\\_total & msq & Date & Time & ppl\\_msq\\\\\n",
       " <chr> & <dbl> & <dbl> & <dbl> & <dbl> & <dbl>\\\\\n",
       "\\hline\n",
       "\t Muku & 0 & 8059.53 & 20220628 & 0 & 0\\\\\n",
       "\t Muku & 0 & 8059.53 & 20220628 & 0 & 0\\\\\n",
       "\t Muku & 0 & 8059.53 & 20220628 & 0 & 0\\\\\n",
       "\t Muku & 0 & 8059.53 & 20220628 & 4 & 0\\\\\n",
       "\t Muku & 0 & 8059.53 & 20220628 & 4 & 0\\\\\n",
       "\t Muku & 0 & 8059.53 & 20220628 & 4 & 0\\\\\n",
       "\\end{tabular}\n"
      ],
      "text/markdown": [
       "\n",
       "A tibble: 6 × 6\n",
       "\n",
       "| Moon &lt;chr&gt; | People_total &lt;dbl&gt; | msq &lt;dbl&gt; | Date &lt;dbl&gt; | Time &lt;dbl&gt; | ppl_msq &lt;dbl&gt; |\n",
       "|---|---|---|---|---|---|\n",
       "| Muku | 0 | 8059.53 | 20220628 | 0 | 0 |\n",
       "| Muku | 0 | 8059.53 | 20220628 | 0 | 0 |\n",
       "| Muku | 0 | 8059.53 | 20220628 | 0 | 0 |\n",
       "| Muku | 0 | 8059.53 | 20220628 | 4 | 0 |\n",
       "| Muku | 0 | 8059.53 | 20220628 | 4 | 0 |\n",
       "| Muku | 0 | 8059.53 | 20220628 | 4 | 0 |\n",
       "\n"
      ],
      "text/plain": [
       "  Moon People_total msq     Date     Time ppl_msq\n",
       "1 Muku 0            8059.53 20220628 0    0      \n",
       "2 Muku 0            8059.53 20220628 0    0      \n",
       "3 Muku 0            8059.53 20220628 0    0      \n",
       "4 Muku 0            8059.53 20220628 4    0      \n",
       "5 Muku 0            8059.53 20220628 4    0      \n",
       "6 Muku 0            8059.53 20220628 4    0      "
      ]
     },
     "metadata": {},
     "output_type": "display_data"
    },
    {
     "data": {
      "text/html": [
       "<table class=\"dataframe\">\n",
       "<caption>A tibble: 6 × 6</caption>\n",
       "<thead>\n",
       "\t<tr><th scope=col>Moon</th><th scope=col>People_total</th><th scope=col>msq</th><th scope=col>Date</th><th scope=col>Time</th><th scope=col>ppl_msq</th></tr>\n",
       "\t<tr><th scope=col>&lt;chr&gt;</th><th scope=col>&lt;dbl&gt;</th><th scope=col>&lt;dbl&gt;</th><th scope=col>&lt;dbl&gt;</th><th scope=col>&lt;dbl&gt;</th><th scope=col>&lt;dbl&gt;</th></tr>\n",
       "</thead>\n",
       "<tbody>\n",
       "\t<tr><td>Hoku</td><td>4</td><td>8059.53</td><td>20220713</td><td>20</td><td>0.0004963069</td></tr>\n",
       "\t<tr><td>Hoku</td><td>4</td><td>8059.53</td><td>20220713</td><td>20</td><td>0.0004963069</td></tr>\n",
       "\t<tr><td>Hoku</td><td>4</td><td>8059.53</td><td>20220713</td><td>20</td><td>0.0004963069</td></tr>\n",
       "\t<tr><td>Hoku</td><td>0</td><td>8059.53</td><td>20220713</td><td>24</td><td>0.0000000000</td></tr>\n",
       "\t<tr><td>Hoku</td><td>0</td><td>8059.53</td><td>20220713</td><td>24</td><td>0.0000000000</td></tr>\n",
       "\t<tr><td>Hoku</td><td>0</td><td>8059.53</td><td>20220713</td><td>24</td><td>0.0000000000</td></tr>\n",
       "</tbody>\n",
       "</table>\n"
      ],
      "text/latex": [
       "A tibble: 6 × 6\n",
       "\\begin{tabular}{llllll}\n",
       " Moon & People\\_total & msq & Date & Time & ppl\\_msq\\\\\n",
       " <chr> & <dbl> & <dbl> & <dbl> & <dbl> & <dbl>\\\\\n",
       "\\hline\n",
       "\t Hoku & 4 & 8059.53 & 20220713 & 20 & 0.0004963069\\\\\n",
       "\t Hoku & 4 & 8059.53 & 20220713 & 20 & 0.0004963069\\\\\n",
       "\t Hoku & 4 & 8059.53 & 20220713 & 20 & 0.0004963069\\\\\n",
       "\t Hoku & 0 & 8059.53 & 20220713 & 24 & 0.0000000000\\\\\n",
       "\t Hoku & 0 & 8059.53 & 20220713 & 24 & 0.0000000000\\\\\n",
       "\t Hoku & 0 & 8059.53 & 20220713 & 24 & 0.0000000000\\\\\n",
       "\\end{tabular}\n"
      ],
      "text/markdown": [
       "\n",
       "A tibble: 6 × 6\n",
       "\n",
       "| Moon &lt;chr&gt; | People_total &lt;dbl&gt; | msq &lt;dbl&gt; | Date &lt;dbl&gt; | Time &lt;dbl&gt; | ppl_msq &lt;dbl&gt; |\n",
       "|---|---|---|---|---|---|\n",
       "| Hoku | 4 | 8059.53 | 20220713 | 20 | 0.0004963069 |\n",
       "| Hoku | 4 | 8059.53 | 20220713 | 20 | 0.0004963069 |\n",
       "| Hoku | 4 | 8059.53 | 20220713 | 20 | 0.0004963069 |\n",
       "| Hoku | 0 | 8059.53 | 20220713 | 24 | 0.0000000000 |\n",
       "| Hoku | 0 | 8059.53 | 20220713 | 24 | 0.0000000000 |\n",
       "| Hoku | 0 | 8059.53 | 20220713 | 24 | 0.0000000000 |\n",
       "\n"
      ],
      "text/plain": [
       "  Moon People_total msq     Date     Time ppl_msq     \n",
       "1 Hoku 4            8059.53 20220713 20   0.0004963069\n",
       "2 Hoku 4            8059.53 20220713 20   0.0004963069\n",
       "3 Hoku 4            8059.53 20220713 20   0.0004963069\n",
       "4 Hoku 0            8059.53 20220713 24   0.0000000000\n",
       "5 Hoku 0            8059.53 20220713 24   0.0000000000\n",
       "6 Hoku 0            8059.53 20220713 24   0.0000000000"
      ]
     },
     "metadata": {},
     "output_type": "display_data"
    }
   ],
   "source": [
    "#preview\n",
    "head(combined_data)\n",
    "tail(combined_data)"
   ]
  },
  {
   "cell_type": "code",
   "execution_count": 23,
   "id": "72dcf3b9",
   "metadata": {},
   "outputs": [
    {
     "name": "stdout",
     "output_type": "stream",
     "text": [
      "'data.frame':\t30 obs. of  4 variables:\n",
      " $ Moon: chr  \"Muku\" \"Muku\" \"Muku\" \"Muku\" ...\n",
      " $ Time: int  0 0 0 4 4 4 8 8 8 9 ...\n",
      " $ BP3 : num  12.3 13.9 11.1 20 20.1 ...\n",
      " $ OC  : num  NA NA NA NA NA ...\n",
      "'data.frame':\t30 obs. of  4 variables:\n",
      " $ Moon: chr  \"ʻOlekūkolu\" \"ʻOlekūkolu\" \"ʻOlekūkolu\" \"ʻOlekūkolu\" ...\n",
      " $ Time: int  0 0 0 4 4 4 8 8 8 9 ...\n",
      " $ BP3 : num  21.2 21.5 19.3 20.3 21.7 ...\n",
      " $ OC  : num  NA NA NA 15.6 12.8 ...\n",
      "'data.frame':\t30 obs. of  4 variables:\n",
      " $ Moon: chr  \"Hoku\" \"Hoku\" \"Hoku\" \"Hoku\" ...\n",
      " $ Time: int  0 0 0 4 4 4 8 8 8 9 ...\n",
      " $ BP3 : num  36.9 35.1 35.9 36.6 37.1 ...\n",
      " $ OC  : num  87.4 73.7 71 84.2 109.1 ...\n"
     ]
    }
   ],
   "source": [
    "#all BP3 and OC concentration ([UVF]) data from individual CSV files; str preview showing NA values\n",
    "conc_muku <- data.frame(read.csv(\"conc_muku.csv\"))\n",
    "conc_ole <- data.frame(read.csv(\"conc_ole.csv\"))\n",
    "conc_hoku <- data.frame(read.csv(\"conc_hoku.csv\"))\n",
    "str(conc_muku)\n",
    "str(conc_ole)\n",
    "str(conc_hoku)"
   ]
  },
  {
   "cell_type": "code",
   "execution_count": 24,
   "id": "4955c994",
   "metadata": {},
   "outputs": [],
   "source": [
    "#combine all [UVF] data to one data frame\n",
    "conc <- rbind(conc_muku, conc_ole, conc_hoku)"
   ]
  },
  {
   "cell_type": "code",
   "execution_count": 25,
   "id": "8061dc15",
   "metadata": {},
   "outputs": [
    {
     "name": "stdout",
     "output_type": "stream",
     "text": [
      "'data.frame':\t90 obs. of  4 variables:\n",
      " $ Moon: chr  \"Muku\" \"Muku\" \"Muku\" \"Muku\" ...\n",
      " $ Time: int  0 0 0 4 4 4 8 8 8 9 ...\n",
      " $ BP3 : num  12.3 13.9 11.1 20 20.1 ...\n",
      " $ OC  : num  0 0 0 0 0 ...\n"
     ]
    }
   ],
   "source": [
    "#replace NA values with 0; str preview\n",
    "conc[is.na(conc)] <- 0\n",
    "str(conc)"
   ]
  },
  {
   "cell_type": "code",
   "execution_count": 26,
   "id": "5656c758",
   "metadata": {},
   "outputs": [
    {
     "data": {
      "text/html": [
       "<table class=\"dataframe\">\n",
       "<caption>A data.frame: 6 × 10</caption>\n",
       "<thead>\n",
       "\t<tr><th></th><th scope=col>Moon</th><th scope=col>Time</th><th scope=col>BP3</th><th scope=col>OC</th><th scope=col>Moon</th><th scope=col>People_total</th><th scope=col>msq</th><th scope=col>Date</th><th scope=col>Time</th><th scope=col>ppl_msq</th></tr>\n",
       "\t<tr><th></th><th scope=col>&lt;chr&gt;</th><th scope=col>&lt;int&gt;</th><th scope=col>&lt;dbl&gt;</th><th scope=col>&lt;dbl&gt;</th><th scope=col>&lt;chr&gt;</th><th scope=col>&lt;dbl&gt;</th><th scope=col>&lt;dbl&gt;</th><th scope=col>&lt;dbl&gt;</th><th scope=col>&lt;dbl&gt;</th><th scope=col>&lt;dbl&gt;</th></tr>\n",
       "</thead>\n",
       "<tbody>\n",
       "\t<tr><th scope=row>1</th><td>Muku</td><td>0</td><td>12.34324</td><td>0</td><td>Muku</td><td>0</td><td>8059.53</td><td>20220628</td><td>0</td><td>0</td></tr>\n",
       "\t<tr><th scope=row>2</th><td>Muku</td><td>0</td><td>13.92103</td><td>0</td><td>Muku</td><td>0</td><td>8059.53</td><td>20220628</td><td>0</td><td>0</td></tr>\n",
       "\t<tr><th scope=row>3</th><td>Muku</td><td>0</td><td>11.11400</td><td>0</td><td>Muku</td><td>0</td><td>8059.53</td><td>20220628</td><td>0</td><td>0</td></tr>\n",
       "\t<tr><th scope=row>4</th><td>Muku</td><td>4</td><td>20.03424</td><td>0</td><td>Muku</td><td>0</td><td>8059.53</td><td>20220628</td><td>4</td><td>0</td></tr>\n",
       "\t<tr><th scope=row>5</th><td>Muku</td><td>4</td><td>20.05967</td><td>0</td><td>Muku</td><td>0</td><td>8059.53</td><td>20220628</td><td>4</td><td>0</td></tr>\n",
       "\t<tr><th scope=row>6</th><td>Muku</td><td>4</td><td>18.89155</td><td>0</td><td>Muku</td><td>0</td><td>8059.53</td><td>20220628</td><td>4</td><td>0</td></tr>\n",
       "</tbody>\n",
       "</table>\n"
      ],
      "text/latex": [
       "A data.frame: 6 × 10\n",
       "\\begin{tabular}{r|llllllllll}\n",
       "  & Moon & Time & BP3 & OC & Moon & People\\_total & msq & Date & Time & ppl\\_msq\\\\\n",
       "  & <chr> & <int> & <dbl> & <dbl> & <chr> & <dbl> & <dbl> & <dbl> & <dbl> & <dbl>\\\\\n",
       "\\hline\n",
       "\t1 & Muku & 0 & 12.34324 & 0 & Muku & 0 & 8059.53 & 20220628 & 0 & 0\\\\\n",
       "\t2 & Muku & 0 & 13.92103 & 0 & Muku & 0 & 8059.53 & 20220628 & 0 & 0\\\\\n",
       "\t3 & Muku & 0 & 11.11400 & 0 & Muku & 0 & 8059.53 & 20220628 & 0 & 0\\\\\n",
       "\t4 & Muku & 4 & 20.03424 & 0 & Muku & 0 & 8059.53 & 20220628 & 4 & 0\\\\\n",
       "\t5 & Muku & 4 & 20.05967 & 0 & Muku & 0 & 8059.53 & 20220628 & 4 & 0\\\\\n",
       "\t6 & Muku & 4 & 18.89155 & 0 & Muku & 0 & 8059.53 & 20220628 & 4 & 0\\\\\n",
       "\\end{tabular}\n"
      ],
      "text/markdown": [
       "\n",
       "A data.frame: 6 × 10\n",
       "\n",
       "| <!--/--> | Moon &lt;chr&gt; | Time &lt;int&gt; | BP3 &lt;dbl&gt; | OC &lt;dbl&gt; | Moon &lt;chr&gt; | People_total &lt;dbl&gt; | msq &lt;dbl&gt; | Date &lt;dbl&gt; | Time &lt;dbl&gt; | ppl_msq &lt;dbl&gt; |\n",
       "|---|---|---|---|---|---|---|---|---|---|---|\n",
       "| 1 | Muku | 0 | 12.34324 | 0 | Muku | 0 | 8059.53 | 20220628 | 0 | 0 |\n",
       "| 2 | Muku | 0 | 13.92103 | 0 | Muku | 0 | 8059.53 | 20220628 | 0 | 0 |\n",
       "| 3 | Muku | 0 | 11.11400 | 0 | Muku | 0 | 8059.53 | 20220628 | 0 | 0 |\n",
       "| 4 | Muku | 4 | 20.03424 | 0 | Muku | 0 | 8059.53 | 20220628 | 4 | 0 |\n",
       "| 5 | Muku | 4 | 20.05967 | 0 | Muku | 0 | 8059.53 | 20220628 | 4 | 0 |\n",
       "| 6 | Muku | 4 | 18.89155 | 0 | Muku | 0 | 8059.53 | 20220628 | 4 | 0 |\n",
       "\n"
      ],
      "text/plain": [
       "  Moon Time BP3      OC Moon People_total msq     Date     Time ppl_msq\n",
       "1 Muku 0    12.34324 0  Muku 0            8059.53 20220628 0    0      \n",
       "2 Muku 0    13.92103 0  Muku 0            8059.53 20220628 0    0      \n",
       "3 Muku 0    11.11400 0  Muku 0            8059.53 20220628 0    0      \n",
       "4 Muku 4    20.03424 0  Muku 0            8059.53 20220628 4    0      \n",
       "5 Muku 4    20.05967 0  Muku 0            8059.53 20220628 4    0      \n",
       "6 Muku 4    18.89155 0  Muku 0            8059.53 20220628 4    0      "
      ]
     },
     "metadata": {},
     "output_type": "display_data"
    }
   ],
   "source": [
    "#combine [UVF] and pple from combined_data; head preview\n",
    "conc_pple <- cbind(conc,combined_data)\n",
    "head(conc_pple)"
   ]
  },
  {
   "cell_type": "code",
   "execution_count": 30,
   "id": "43decc29",
   "metadata": {},
   "outputs": [
    {
     "data": {
      "text/html": [
       "<table class=\"dataframe\">\n",
       "<caption>A data.frame: 6 × 7</caption>\n",
       "<thead>\n",
       "\t<tr><th></th><th scope=col>Moon</th><th scope=col>Date</th><th scope=col>Time</th><th scope=col>BP3</th><th scope=col>OC</th><th scope=col>People_total</th><th scope=col>ppl_msq</th></tr>\n",
       "\t<tr><th></th><th scope=col>&lt;chr&gt;</th><th scope=col>&lt;dbl&gt;</th><th scope=col>&lt;int&gt;</th><th scope=col>&lt;dbl&gt;</th><th scope=col>&lt;dbl&gt;</th><th scope=col>&lt;dbl&gt;</th><th scope=col>&lt;dbl&gt;</th></tr>\n",
       "</thead>\n",
       "<tbody>\n",
       "\t<tr><th scope=row>1</th><td>Muku</td><td>20220628</td><td>0</td><td>12.34324</td><td>0</td><td>0</td><td>0</td></tr>\n",
       "\t<tr><th scope=row>2</th><td>Muku</td><td>20220628</td><td>0</td><td>13.92103</td><td>0</td><td>0</td><td>0</td></tr>\n",
       "\t<tr><th scope=row>3</th><td>Muku</td><td>20220628</td><td>0</td><td>11.11400</td><td>0</td><td>0</td><td>0</td></tr>\n",
       "\t<tr><th scope=row>4</th><td>Muku</td><td>20220628</td><td>4</td><td>20.03424</td><td>0</td><td>0</td><td>0</td></tr>\n",
       "\t<tr><th scope=row>5</th><td>Muku</td><td>20220628</td><td>4</td><td>20.05967</td><td>0</td><td>0</td><td>0</td></tr>\n",
       "\t<tr><th scope=row>6</th><td>Muku</td><td>20220628</td><td>4</td><td>18.89155</td><td>0</td><td>0</td><td>0</td></tr>\n",
       "</tbody>\n",
       "</table>\n"
      ],
      "text/latex": [
       "A data.frame: 6 × 7\n",
       "\\begin{tabular}{r|lllllll}\n",
       "  & Moon & Date & Time & BP3 & OC & People\\_total & ppl\\_msq\\\\\n",
       "  & <chr> & <dbl> & <int> & <dbl> & <dbl> & <dbl> & <dbl>\\\\\n",
       "\\hline\n",
       "\t1 & Muku & 20220628 & 0 & 12.34324 & 0 & 0 & 0\\\\\n",
       "\t2 & Muku & 20220628 & 0 & 13.92103 & 0 & 0 & 0\\\\\n",
       "\t3 & Muku & 20220628 & 0 & 11.11400 & 0 & 0 & 0\\\\\n",
       "\t4 & Muku & 20220628 & 4 & 20.03424 & 0 & 0 & 0\\\\\n",
       "\t5 & Muku & 20220628 & 4 & 20.05967 & 0 & 0 & 0\\\\\n",
       "\t6 & Muku & 20220628 & 4 & 18.89155 & 0 & 0 & 0\\\\\n",
       "\\end{tabular}\n"
      ],
      "text/markdown": [
       "\n",
       "A data.frame: 6 × 7\n",
       "\n",
       "| <!--/--> | Moon &lt;chr&gt; | Date &lt;dbl&gt; | Time &lt;int&gt; | BP3 &lt;dbl&gt; | OC &lt;dbl&gt; | People_total &lt;dbl&gt; | ppl_msq &lt;dbl&gt; |\n",
       "|---|---|---|---|---|---|---|---|\n",
       "| 1 | Muku | 20220628 | 0 | 12.34324 | 0 | 0 | 0 |\n",
       "| 2 | Muku | 20220628 | 0 | 13.92103 | 0 | 0 | 0 |\n",
       "| 3 | Muku | 20220628 | 0 | 11.11400 | 0 | 0 | 0 |\n",
       "| 4 | Muku | 20220628 | 4 | 20.03424 | 0 | 0 | 0 |\n",
       "| 5 | Muku | 20220628 | 4 | 20.05967 | 0 | 0 | 0 |\n",
       "| 6 | Muku | 20220628 | 4 | 18.89155 | 0 | 0 | 0 |\n",
       "\n"
      ],
      "text/plain": [
       "  Moon Date     Time BP3      OC People_total ppl_msq\n",
       "1 Muku 20220628 0    12.34324 0  0            0      \n",
       "2 Muku 20220628 0    13.92103 0  0            0      \n",
       "3 Muku 20220628 0    11.11400 0  0            0      \n",
       "4 Muku 20220628 4    20.03424 0  0            0      \n",
       "5 Muku 20220628 4    20.05967 0  0            0      \n",
       "6 Muku 20220628 4    18.89155 0  0            0      "
      ]
     },
     "metadata": {},
     "output_type": "display_data"
    }
   ],
   "source": [
    "#remove duplicate columns, reorganize columns; head preview\n",
    "conc_pple_2 <- conc_pple[,-5]\n",
    "conc_pple_3 <- conc_pple_2[,-8]\n",
    "conc_pple_4 <- conc_pple_3[,-6]\n",
    "conc_pple_fin <- conc_pple_4 %>% relocate(Date, .after = Moon)\n",
    "head(conc_pple_fin)"
   ]
  },
  {
   "cell_type": "code",
   "execution_count": 31,
   "id": "94a24469",
   "metadata": {},
   "outputs": [
    {
     "name": "stdout",
     "output_type": "stream",
     "text": [
      "'data.frame':\t90 obs. of  6 variables:\n",
      " $ Date    : int  20220628 20220628 20220628 20220628 20220628 20220628 20220628 20220628 20220628 20220628 ...\n",
      " $ Moon    : chr  \"Muku\" \"Muku\" \"Muku\" \"Muku\" ...\n",
      " $ Time    : num  0 0 0 4 4 4 8 8 8 9 ...\n",
      " $ Tide    : num  0.271 0.271 0.271 0.505 0.505 ...\n",
      " $ PreTide : num  0.24 0.24 0.24 0.54 0.54 0.54 0.54 0.54 0.54 -0.15 ...\n",
      " $ PostTide: num  0.54 0.54 0.54 -0.15 -0.15 -0.15 -0.15 -0.15 -0.15 2.28 ...\n"
     ]
    }
   ],
   "source": [
    "### Kaimana_tide dataset\n",
    "Diamond_data <- read.csv(\"Diamond_tide.csv\")\n",
    "str(Diamond_data)"
   ]
  },
  {
   "cell_type": "code",
   "execution_count": 32,
   "id": "b753b4db",
   "metadata": {},
   "outputs": [
    {
     "name": "stdout",
     "output_type": "stream",
     "text": [
      "'data.frame':\t90 obs. of  7 variables:\n",
      " $ Date            : int  20220628 20220628 20220628 20220628 20220628 20220628 20220628 20220628 20220628 20220628 ...\n",
      " $ Moon            : chr  \"Muku\" \"Muku\" \"Muku\" \"Muku\" ...\n",
      " $ Time            : num  0 0 0 4 4 4 8 8 8 9 ...\n",
      " $ Tide            : num  0.271 0.271 0.271 0.505 0.505 ...\n",
      " $ PreTide         : num  0.24 0.24 0.24 0.54 0.54 0.54 0.54 0.54 0.54 -0.15 ...\n",
      " $ PostTide        : num  0.54 0.54 0.54 -0.15 -0.15 -0.15 -0.15 -0.15 -0.15 2.28 ...\n",
      " $ PreTide_PostTide: chr  \"0.24_0.54\" \"0.24_0.54\" \"0.24_0.54\" \"0.54_-0.15\" ...\n"
     ]
    }
   ],
   "source": [
    "### Combining PreTide and PostTide columns into one\n",
    "Diamond_data$PreTide_PostTide <- paste(Diamond_data$PreTide, Diamond_data$PostTide, sep=\"_\")\n",
    "str(Diamond_data)"
   ]
  },
  {
   "cell_type": "code",
   "execution_count": 47,
   "id": "2cc70667",
   "metadata": {},
   "outputs": [
    {
     "ename": "ERROR",
     "evalue": "Error in eval(expr, envir, enclos): object 'Diamond_data' not found\n",
     "output_type": "error",
     "traceback": [
      "Error in eval(expr, envir, enclos): object 'Diamond_data' not found\nTraceback:\n"
     ]
    }
   ],
   "source": [
    "### Removing old columns\n",
    "##download this one as csv\n",
    "Diamond_data_new <- Diamond_data[c(\"Date\", \"Moon\", \"Time\", \"Tide\", \"PreTide_PostTide\")]\n",
    "str(Diamond_data_new)\n",
    "write.csv(Diamond_data_new, \"tide.csv\")"
   ]
  },
  {
   "cell_type": "code",
   "execution_count": 48,
   "id": "779e710c",
   "metadata": {},
   "outputs": [],
   "source": [
    "tide <- read.csv(\"tide.csv\")"
   ]
  },
  {
   "cell_type": "code",
   "execution_count": 49,
   "id": "b59c6476",
   "metadata": {},
   "outputs": [
    {
     "name": "stdout",
     "output_type": "stream",
     "text": [
      "'data.frame':\t90 obs. of  8 variables:\n",
      " $ X               : int  1 2 3 4 5 6 7 8 9 10 ...\n",
      " $ Date            : int  20220628 20220628 20220628 20220628 20220628 20220628 20220628 20220628 20220628 20220628 ...\n",
      " $ Moon            : chr  \"Muku\" \"Muku\" \"Muku\" \"Muku\" ...\n",
      " $ Time            : int  0 0 0 4 4 4 8 8 8 9 ...\n",
      " $ Tide            : num  0.271 0.271 0.271 0.505 0.505 ...\n",
      " $ PreTide_PostTide: chr  \"0.24_0.54\" \"0.24_0.54\" \"0.24_0.54\" \"0.54_-0.15\" ...\n",
      " $ PreTide         : chr  \"0.24\" \"0.24\" \"0.24\" \"0.54\" ...\n",
      " $ PostTide        : chr  \"0.54\" \"0.54\" \"0.54\" \"-0.15\" ...\n"
     ]
    }
   ],
   "source": [
    "### Tidying up the data again (Cleaning)\n",
    "tide[c('PreTide', 'PostTide')] <- str_split_fixed(tide$PreTide_PostTide, '_', 2)\n",
    "str(tide)"
   ]
  },
  {
   "cell_type": "code",
   "execution_count": 50,
   "id": "cc7b1ef3",
   "metadata": {},
   "outputs": [
    {
     "name": "stdout",
     "output_type": "stream",
     "text": [
      "'data.frame':\t90 obs. of  6 variables:\n",
      " $ Date    : int  20220628 20220628 20220628 20220628 20220628 20220628 20220628 20220628 20220628 20220628 ...\n",
      " $ Moon    : chr  \"Muku\" \"Muku\" \"Muku\" \"Muku\" ...\n",
      " $ Time    : int  0 0 0 4 4 4 8 8 8 9 ...\n",
      " $ Tide    : num  0.271 0.271 0.271 0.505 0.505 ...\n",
      " $ PreTide : chr  \"0.24\" \"0.24\" \"0.24\" \"0.54\" ...\n",
      " $ PostTide: chr  \"0.54\" \"0.54\" \"0.54\" \"-0.15\" ...\n"
     ]
    }
   ],
   "source": [
    "### Removing extra joint column (Cleaning)\n",
    "tide_2 <- tide[c(\"Date\", \"Moon\", \"Time\", \"Tide\", \"PreTide\", \"PostTide\")]\n",
    "str(tide_2)"
   ]
  },
  {
   "cell_type": "code",
   "execution_count": 51,
   "id": "11b38597",
   "metadata": {},
   "outputs": [
    {
     "name": "stdout",
     "output_type": "stream",
     "text": [
      "'data.frame':\t90 obs. of  6 variables:\n",
      " $ Date    : int  20220628 20220628 20220628 20220628 20220628 20220628 20220628 20220628 20220628 20220628 ...\n",
      " $ Moon    : chr  \"Muku\" \"Muku\" \"Muku\" \"Muku\" ...\n",
      " $ Time    : int  0 0 0 4 4 4 8 8 8 9 ...\n",
      " $ Tide    : num  0.0826 0.0826 0.0826 0.1541 0.1541 ...\n",
      " $ PreTide : chr  \"0.24\" \"0.24\" \"0.24\" \"0.54\" ...\n",
      " $ PostTide: chr  \"0.54\" \"0.54\" \"0.54\" \"-0.15\" ...\n"
     ]
    }
   ],
   "source": [
    "### Convert Tide column from inches to meters\n",
    "tide_2$Tide <- tide_2$Tide * 0.3048\n",
    "str(tide_2)"
   ]
  },
  {
   "cell_type": "code",
   "execution_count": 52,
   "id": "a15e9b73",
   "metadata": {},
   "outputs": [
    {
     "name": "stdout",
     "output_type": "stream",
     "text": [
      "'data.frame':\t90 obs. of  6 variables:\n",
      " $ Date    : int  20220628 20220628 20220628 20220628 20220628 20220628 20220628 20220628 20220628 20220628 ...\n",
      " $ Moon    : chr  \"Muku\" \"Muku\" \"Muku\" \"Muku\" ...\n",
      " $ Time    : int  0 0 0 4 4 4 8 8 8 9 ...\n",
      " $ Tide    : num  0.0826 0.0826 0.0826 0.1541 0.1541 ...\n",
      " $ PreTide : num  0.24 0.24 0.24 0.54 0.54 0.54 0.54 0.54 0.54 -0.15 ...\n",
      " $ PostTide: num  0.54 0.54 0.54 -0.15 -0.15 -0.15 -0.15 -0.15 -0.15 2.28 ...\n"
     ]
    }
   ],
   "source": [
    "### Changing PreTide and PostTide columns from character to double strings\n",
    "tide_2$PreTide = as.double(tide_2$PreTide)\n",
    "tide_2$PostTide = as.double(tide_2$PostTide)\n",
    "str(tide_2)"
   ]
  },
  {
   "cell_type": "code",
   "execution_count": 53,
   "id": "f84fe863",
   "metadata": {},
   "outputs": [
    {
     "name": "stdout",
     "output_type": "stream",
     "text": [
      "'data.frame':\t90 obs. of  6 variables:\n",
      " $ Date    : int  20220628 20220628 20220628 20220628 20220628 20220628 20220628 20220628 20220628 20220628 ...\n",
      " $ Moon    : chr  \"Muku\" \"Muku\" \"Muku\" \"Muku\" ...\n",
      " $ Time    : int  0 0 0 4 4 4 8 8 8 9 ...\n",
      " $ Tide    : num  0.0826 0.0826 0.0826 0.1541 0.1541 ...\n",
      " $ PreTide : num  0.0732 0.0732 0.0732 0.1646 0.1646 ...\n",
      " $ PostTide: num  0.1646 0.1646 0.1646 -0.0457 -0.0457 ...\n"
     ]
    }
   ],
   "source": [
    "### Convert PreTide and PostTide columns from inches to meters\n",
    "tide_2$PreTide <- tide_2$PreTide * 0.3048\n",
    "tide_2$PostTide <- tide_2$PostTide * 0.3048\n",
    "str(tide_2)"
   ]
  },
  {
   "cell_type": "code",
   "execution_count": 54,
   "id": "c5c70160",
   "metadata": {},
   "outputs": [
    {
     "data": {
      "text/html": [
       "<table class=\"dataframe\">\n",
       "<caption>A data.frame: 6 × 13</caption>\n",
       "<thead>\n",
       "\t<tr><th></th><th scope=col>Moon</th><th scope=col>Date</th><th scope=col>Time</th><th scope=col>BP3</th><th scope=col>OC</th><th scope=col>People_total</th><th scope=col>ppl_msq</th><th scope=col>Date</th><th scope=col>Moon</th><th scope=col>Time</th><th scope=col>Tide</th><th scope=col>PreTide</th><th scope=col>PostTide</th></tr>\n",
       "\t<tr><th></th><th scope=col>&lt;chr&gt;</th><th scope=col>&lt;dbl&gt;</th><th scope=col>&lt;int&gt;</th><th scope=col>&lt;dbl&gt;</th><th scope=col>&lt;dbl&gt;</th><th scope=col>&lt;dbl&gt;</th><th scope=col>&lt;dbl&gt;</th><th scope=col>&lt;int&gt;</th><th scope=col>&lt;chr&gt;</th><th scope=col>&lt;int&gt;</th><th scope=col>&lt;dbl&gt;</th><th scope=col>&lt;dbl&gt;</th><th scope=col>&lt;dbl&gt;</th></tr>\n",
       "</thead>\n",
       "<tbody>\n",
       "\t<tr><th scope=row>1</th><td>Muku</td><td>20220628</td><td>0</td><td>12.34324</td><td>0</td><td>0</td><td>0</td><td>20220628</td><td>Muku</td><td>0</td><td>0.08264164</td><td>0.073152</td><td> 0.164592</td></tr>\n",
       "\t<tr><th scope=row>2</th><td>Muku</td><td>20220628</td><td>0</td><td>13.92103</td><td>0</td><td>0</td><td>0</td><td>20220628</td><td>Muku</td><td>0</td><td>0.08264164</td><td>0.073152</td><td> 0.164592</td></tr>\n",
       "\t<tr><th scope=row>3</th><td>Muku</td><td>20220628</td><td>0</td><td>11.11400</td><td>0</td><td>0</td><td>0</td><td>20220628</td><td>Muku</td><td>0</td><td>0.08264164</td><td>0.073152</td><td> 0.164592</td></tr>\n",
       "\t<tr><th scope=row>4</th><td>Muku</td><td>20220628</td><td>4</td><td>20.03424</td><td>0</td><td>0</td><td>0</td><td>20220628</td><td>Muku</td><td>4</td><td>0.15407579</td><td>0.164592</td><td>-0.045720</td></tr>\n",
       "\t<tr><th scope=row>5</th><td>Muku</td><td>20220628</td><td>4</td><td>20.05967</td><td>0</td><td>0</td><td>0</td><td>20220628</td><td>Muku</td><td>4</td><td>0.15407579</td><td>0.164592</td><td>-0.045720</td></tr>\n",
       "\t<tr><th scope=row>6</th><td>Muku</td><td>20220628</td><td>4</td><td>18.89155</td><td>0</td><td>0</td><td>0</td><td>20220628</td><td>Muku</td><td>4</td><td>0.15407579</td><td>0.164592</td><td>-0.045720</td></tr>\n",
       "</tbody>\n",
       "</table>\n"
      ],
      "text/latex": [
       "A data.frame: 6 × 13\n",
       "\\begin{tabular}{r|lllllllllllll}\n",
       "  & Moon & Date & Time & BP3 & OC & People\\_total & ppl\\_msq & Date & Moon & Time & Tide & PreTide & PostTide\\\\\n",
       "  & <chr> & <dbl> & <int> & <dbl> & <dbl> & <dbl> & <dbl> & <int> & <chr> & <int> & <dbl> & <dbl> & <dbl>\\\\\n",
       "\\hline\n",
       "\t1 & Muku & 20220628 & 0 & 12.34324 & 0 & 0 & 0 & 20220628 & Muku & 0 & 0.08264164 & 0.073152 &  0.164592\\\\\n",
       "\t2 & Muku & 20220628 & 0 & 13.92103 & 0 & 0 & 0 & 20220628 & Muku & 0 & 0.08264164 & 0.073152 &  0.164592\\\\\n",
       "\t3 & Muku & 20220628 & 0 & 11.11400 & 0 & 0 & 0 & 20220628 & Muku & 0 & 0.08264164 & 0.073152 &  0.164592\\\\\n",
       "\t4 & Muku & 20220628 & 4 & 20.03424 & 0 & 0 & 0 & 20220628 & Muku & 4 & 0.15407579 & 0.164592 & -0.045720\\\\\n",
       "\t5 & Muku & 20220628 & 4 & 20.05967 & 0 & 0 & 0 & 20220628 & Muku & 4 & 0.15407579 & 0.164592 & -0.045720\\\\\n",
       "\t6 & Muku & 20220628 & 4 & 18.89155 & 0 & 0 & 0 & 20220628 & Muku & 4 & 0.15407579 & 0.164592 & -0.045720\\\\\n",
       "\\end{tabular}\n"
      ],
      "text/markdown": [
       "\n",
       "A data.frame: 6 × 13\n",
       "\n",
       "| <!--/--> | Moon &lt;chr&gt; | Date &lt;dbl&gt; | Time &lt;int&gt; | BP3 &lt;dbl&gt; | OC &lt;dbl&gt; | People_total &lt;dbl&gt; | ppl_msq &lt;dbl&gt; | Date &lt;int&gt; | Moon &lt;chr&gt; | Time &lt;int&gt; | Tide &lt;dbl&gt; | PreTide &lt;dbl&gt; | PostTide &lt;dbl&gt; |\n",
       "|---|---|---|---|---|---|---|---|---|---|---|---|---|---|\n",
       "| 1 | Muku | 20220628 | 0 | 12.34324 | 0 | 0 | 0 | 20220628 | Muku | 0 | 0.08264164 | 0.073152 |  0.164592 |\n",
       "| 2 | Muku | 20220628 | 0 | 13.92103 | 0 | 0 | 0 | 20220628 | Muku | 0 | 0.08264164 | 0.073152 |  0.164592 |\n",
       "| 3 | Muku | 20220628 | 0 | 11.11400 | 0 | 0 | 0 | 20220628 | Muku | 0 | 0.08264164 | 0.073152 |  0.164592 |\n",
       "| 4 | Muku | 20220628 | 4 | 20.03424 | 0 | 0 | 0 | 20220628 | Muku | 4 | 0.15407579 | 0.164592 | -0.045720 |\n",
       "| 5 | Muku | 20220628 | 4 | 20.05967 | 0 | 0 | 0 | 20220628 | Muku | 4 | 0.15407579 | 0.164592 | -0.045720 |\n",
       "| 6 | Muku | 20220628 | 4 | 18.89155 | 0 | 0 | 0 | 20220628 | Muku | 4 | 0.15407579 | 0.164592 | -0.045720 |\n",
       "\n"
      ],
      "text/plain": [
       "  Moon Date     Time BP3      OC People_total ppl_msq Date     Moon Time\n",
       "1 Muku 20220628 0    12.34324 0  0            0       20220628 Muku 0   \n",
       "2 Muku 20220628 0    13.92103 0  0            0       20220628 Muku 0   \n",
       "3 Muku 20220628 0    11.11400 0  0            0       20220628 Muku 0   \n",
       "4 Muku 20220628 4    20.03424 0  0            0       20220628 Muku 4   \n",
       "5 Muku 20220628 4    20.05967 0  0            0       20220628 Muku 4   \n",
       "6 Muku 20220628 4    18.89155 0  0            0       20220628 Muku 4   \n",
       "  Tide       PreTide  PostTide \n",
       "1 0.08264164 0.073152  0.164592\n",
       "2 0.08264164 0.073152  0.164592\n",
       "3 0.08264164 0.073152  0.164592\n",
       "4 0.15407579 0.164592 -0.045720\n",
       "5 0.15407579 0.164592 -0.045720\n",
       "6 0.15407579 0.164592 -0.045720"
      ]
     },
     "metadata": {},
     "output_type": "display_data"
    }
   ],
   "source": [
    "#combine [UVF] and pple data with tidal data from tide_2\n",
    "Diamond_all <- cbind(conc_pple_fin,tide_2)\n",
    "head(Diamond_all)"
   ]
  },
  {
   "cell_type": "code",
   "execution_count": 56,
   "id": "6d9a6b65",
   "metadata": {},
   "outputs": [
    {
     "data": {
      "text/html": [
       "<table class=\"dataframe\">\n",
       "<caption>A data.frame: 6 × 10</caption>\n",
       "<thead>\n",
       "\t<tr><th></th><th scope=col>Moon</th><th scope=col>Date</th><th scope=col>Time</th><th scope=col>BP3</th><th scope=col>OC</th><th scope=col>People_total</th><th scope=col>ppl_msq</th><th scope=col>Tide</th><th scope=col>PreTide</th><th scope=col>PostTide</th></tr>\n",
       "\t<tr><th></th><th scope=col>&lt;chr&gt;</th><th scope=col>&lt;dbl&gt;</th><th scope=col>&lt;int&gt;</th><th scope=col>&lt;dbl&gt;</th><th scope=col>&lt;dbl&gt;</th><th scope=col>&lt;dbl&gt;</th><th scope=col>&lt;dbl&gt;</th><th scope=col>&lt;dbl&gt;</th><th scope=col>&lt;dbl&gt;</th><th scope=col>&lt;dbl&gt;</th></tr>\n",
       "</thead>\n",
       "<tbody>\n",
       "\t<tr><th scope=row>1</th><td>Muku</td><td>20220628</td><td>0</td><td>12.34324</td><td>0</td><td>0</td><td>0</td><td>0.08264164</td><td>0.073152</td><td> 0.164592</td></tr>\n",
       "\t<tr><th scope=row>2</th><td>Muku</td><td>20220628</td><td>0</td><td>13.92103</td><td>0</td><td>0</td><td>0</td><td>0.08264164</td><td>0.073152</td><td> 0.164592</td></tr>\n",
       "\t<tr><th scope=row>3</th><td>Muku</td><td>20220628</td><td>0</td><td>11.11400</td><td>0</td><td>0</td><td>0</td><td>0.08264164</td><td>0.073152</td><td> 0.164592</td></tr>\n",
       "\t<tr><th scope=row>4</th><td>Muku</td><td>20220628</td><td>4</td><td>20.03424</td><td>0</td><td>0</td><td>0</td><td>0.15407579</td><td>0.164592</td><td>-0.045720</td></tr>\n",
       "\t<tr><th scope=row>5</th><td>Muku</td><td>20220628</td><td>4</td><td>20.05967</td><td>0</td><td>0</td><td>0</td><td>0.15407579</td><td>0.164592</td><td>-0.045720</td></tr>\n",
       "\t<tr><th scope=row>6</th><td>Muku</td><td>20220628</td><td>4</td><td>18.89155</td><td>0</td><td>0</td><td>0</td><td>0.15407579</td><td>0.164592</td><td>-0.045720</td></tr>\n",
       "</tbody>\n",
       "</table>\n"
      ],
      "text/latex": [
       "A data.frame: 6 × 10\n",
       "\\begin{tabular}{r|llllllllll}\n",
       "  & Moon & Date & Time & BP3 & OC & People\\_total & ppl\\_msq & Tide & PreTide & PostTide\\\\\n",
       "  & <chr> & <dbl> & <int> & <dbl> & <dbl> & <dbl> & <dbl> & <dbl> & <dbl> & <dbl>\\\\\n",
       "\\hline\n",
       "\t1 & Muku & 20220628 & 0 & 12.34324 & 0 & 0 & 0 & 0.08264164 & 0.073152 &  0.164592\\\\\n",
       "\t2 & Muku & 20220628 & 0 & 13.92103 & 0 & 0 & 0 & 0.08264164 & 0.073152 &  0.164592\\\\\n",
       "\t3 & Muku & 20220628 & 0 & 11.11400 & 0 & 0 & 0 & 0.08264164 & 0.073152 &  0.164592\\\\\n",
       "\t4 & Muku & 20220628 & 4 & 20.03424 & 0 & 0 & 0 & 0.15407579 & 0.164592 & -0.045720\\\\\n",
       "\t5 & Muku & 20220628 & 4 & 20.05967 & 0 & 0 & 0 & 0.15407579 & 0.164592 & -0.045720\\\\\n",
       "\t6 & Muku & 20220628 & 4 & 18.89155 & 0 & 0 & 0 & 0.15407579 & 0.164592 & -0.045720\\\\\n",
       "\\end{tabular}\n"
      ],
      "text/markdown": [
       "\n",
       "A data.frame: 6 × 10\n",
       "\n",
       "| <!--/--> | Moon &lt;chr&gt; | Date &lt;dbl&gt; | Time &lt;int&gt; | BP3 &lt;dbl&gt; | OC &lt;dbl&gt; | People_total &lt;dbl&gt; | ppl_msq &lt;dbl&gt; | Tide &lt;dbl&gt; | PreTide &lt;dbl&gt; | PostTide &lt;dbl&gt; |\n",
       "|---|---|---|---|---|---|---|---|---|---|---|\n",
       "| 1 | Muku | 20220628 | 0 | 12.34324 | 0 | 0 | 0 | 0.08264164 | 0.073152 |  0.164592 |\n",
       "| 2 | Muku | 20220628 | 0 | 13.92103 | 0 | 0 | 0 | 0.08264164 | 0.073152 |  0.164592 |\n",
       "| 3 | Muku | 20220628 | 0 | 11.11400 | 0 | 0 | 0 | 0.08264164 | 0.073152 |  0.164592 |\n",
       "| 4 | Muku | 20220628 | 4 | 20.03424 | 0 | 0 | 0 | 0.15407579 | 0.164592 | -0.045720 |\n",
       "| 5 | Muku | 20220628 | 4 | 20.05967 | 0 | 0 | 0 | 0.15407579 | 0.164592 | -0.045720 |\n",
       "| 6 | Muku | 20220628 | 4 | 18.89155 | 0 | 0 | 0 | 0.15407579 | 0.164592 | -0.045720 |\n",
       "\n"
      ],
      "text/plain": [
       "  Moon Date     Time BP3      OC People_total ppl_msq Tide       PreTide \n",
       "1 Muku 20220628 0    12.34324 0  0            0       0.08264164 0.073152\n",
       "2 Muku 20220628 0    13.92103 0  0            0       0.08264164 0.073152\n",
       "3 Muku 20220628 0    11.11400 0  0            0       0.08264164 0.073152\n",
       "4 Muku 20220628 4    20.03424 0  0            0       0.15407579 0.164592\n",
       "5 Muku 20220628 4    20.05967 0  0            0       0.15407579 0.164592\n",
       "6 Muku 20220628 4    18.89155 0  0            0       0.15407579 0.164592\n",
       "  PostTide \n",
       "1  0.164592\n",
       "2  0.164592\n",
       "3  0.164592\n",
       "4 -0.045720\n",
       "5 -0.045720\n",
       "6 -0.045720"
      ]
     },
     "metadata": {},
     "output_type": "display_data"
    },
    {
     "name": "stdout",
     "output_type": "stream",
     "text": [
      "'data.frame':\t90 obs. of  10 variables:\n",
      " $ Moon        : chr  \"Muku\" \"Muku\" \"Muku\" \"Muku\" ...\n",
      " $ Date        : num  20220628 20220628 20220628 20220628 20220628 ...\n",
      " $ Time        : int  0 0 0 4 4 4 8 8 8 9 ...\n",
      " $ BP3         : num  12.3 13.9 11.1 20 20.1 ...\n",
      " $ OC          : num  0 0 0 0 0 ...\n",
      " $ People_total: num  0 0 0 0 0 0 9 9 9 11 ...\n",
      " $ ppl_msq     : num  0 0 0 0 0 ...\n",
      " $ Tide        : num  0.0826 0.0826 0.0826 0.1541 0.1541 ...\n",
      " $ PreTide     : num  0.0732 0.0732 0.0732 0.1646 0.1646 ...\n",
      " $ PostTide    : num  0.1646 0.1646 0.1646 -0.0457 -0.0457 ...\n"
     ]
    }
   ],
   "source": [
    "#remove duplicate columns\n",
    "Diamond_all_1 <- Diamond_all[,-10]\n",
    "Diamond_all_2 <- Diamond_all_1[,-9]\n",
    "Diamond_all_fin <- Diamond_all_2[,-8]\n",
    "head(Diamond_all_fin)\n",
    "str(Diamond_all_fin)"
   ]
  },
  {
   "cell_type": "code",
   "execution_count": 57,
   "id": "cc161d27",
   "metadata": {},
   "outputs": [],
   "source": [
    "#Export tidy csv file\n",
    "write.csv(Diamond_all_fin, \"DiamondBeach_all.csv\")"
   ]
  },
  {
   "cell_type": "code",
   "execution_count": null,
   "id": "721351bc",
   "metadata": {},
   "outputs": [],
   "source": []
  }
 ],
 "metadata": {
  "kernelspec": {
   "display_name": "R",
   "language": "R",
   "name": "ir"
  },
  "language_info": {
   "codemirror_mode": "r",
   "file_extension": ".r",
   "mimetype": "text/x-r-source",
   "name": "R",
   "pygments_lexer": "r",
   "version": "4.2.1"
  }
 },
 "nbformat": 4,
 "nbformat_minor": 5
}
