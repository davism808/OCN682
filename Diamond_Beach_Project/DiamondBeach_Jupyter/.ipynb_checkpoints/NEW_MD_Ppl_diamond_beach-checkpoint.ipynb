{
 "cells": [
  {
   "cell_type": "code",
   "execution_count": 1,
   "id": "94af954b",
   "metadata": {},
   "outputs": [
    {
     "name": "stderr",
     "output_type": "stream",
     "text": [
      "── \u001b[1mAttaching packages\u001b[22m ─────────────────────────────────────── tidyverse 1.3.2 ──\n",
      "\u001b[32m✔\u001b[39m \u001b[34mggplot2\u001b[39m 3.3.6      \u001b[32m✔\u001b[39m \u001b[34mpurrr  \u001b[39m 0.3.4 \n",
      "\u001b[32m✔\u001b[39m \u001b[34mtibble \u001b[39m 3.1.8      \u001b[32m✔\u001b[39m \u001b[34mdplyr  \u001b[39m 1.0.10\n",
      "\u001b[32m✔\u001b[39m \u001b[34mtidyr  \u001b[39m 1.2.1      \u001b[32m✔\u001b[39m \u001b[34mstringr\u001b[39m 1.4.1 \n",
      "\u001b[32m✔\u001b[39m \u001b[34mreadr  \u001b[39m 2.1.2      \u001b[32m✔\u001b[39m \u001b[34mforcats\u001b[39m 0.5.2 \n",
      "── \u001b[1mConflicts\u001b[22m ────────────────────────────────────────── tidyverse_conflicts() ──\n",
      "\u001b[31m✖\u001b[39m \u001b[34mdplyr\u001b[39m::\u001b[32mfilter()\u001b[39m masks \u001b[34mstats\u001b[39m::filter()\n",
      "\u001b[31m✖\u001b[39m \u001b[34mdplyr\u001b[39m::\u001b[32mlag()\u001b[39m    masks \u001b[34mstats\u001b[39m::lag()\n"
     ]
    }
   ],
   "source": [
    "library(tidyverse)"
   ]
  },
  {
   "cell_type": "code",
   "execution_count": 50,
   "id": "56f575c0",
   "metadata": {},
   "outputs": [],
   "source": [
    "library(readxl)"
   ]
  },
  {
   "cell_type": "code",
   "execution_count": 55,
   "id": "c29f3b51",
   "metadata": {},
   "outputs": [],
   "source": [
    "#List excel sheets\n",
    "combined_data <- excel_sheets(\"2_People_untidy_MD.xlsx\") %>% map_df(~read_xlsx(\"2_People_untidy_MD.xlsx\",.))"
   ]
  },
  {
   "cell_type": "code",
   "execution_count": 56,
   "id": "7d5bccf5",
   "metadata": {},
   "outputs": [],
   "source": [
    "#Replace missing values with 0\n",
    "combined_data[is.na(combined_data)] <- 0"
   ]
  },
  {
   "cell_type": "code",
   "execution_count": 60,
   "id": "03fd76fe",
   "metadata": {},
   "outputs": [],
   "source": [
    "# Divide People_total / msq to get total ppl_msq\n",
    "combined_data$ppl_msq <- (combined_data$People_total / combined_data$msq)"
   ]
  },
  {
   "cell_type": "code",
   "execution_count": 62,
   "id": "5d8838a9",
   "metadata": {},
   "outputs": [
    {
     "data": {
      "text/html": [
       "<table class=\"dataframe\">\n",
       "<caption>A tibble: 6 × 6</caption>\n",
       "<thead>\n",
       "\t<tr><th scope=col>Moon</th><th scope=col>People_total</th><th scope=col>msq</th><th scope=col>Date</th><th scope=col>Time</th><th scope=col>ppl_msq</th></tr>\n",
       "\t<tr><th scope=col>&lt;chr&gt;</th><th scope=col>&lt;dbl&gt;</th><th scope=col>&lt;dbl&gt;</th><th scope=col>&lt;dbl&gt;</th><th scope=col>&lt;dbl&gt;</th><th scope=col>&lt;dbl&gt;</th></tr>\n",
       "</thead>\n",
       "<tbody>\n",
       "\t<tr><td>Muku</td><td>0</td><td>8059.53</td><td>20220628</td><td>0</td><td>0</td></tr>\n",
       "\t<tr><td>Muku</td><td>0</td><td>8059.53</td><td>20220628</td><td>0</td><td>0</td></tr>\n",
       "\t<tr><td>Muku</td><td>0</td><td>8059.53</td><td>20220628</td><td>0</td><td>0</td></tr>\n",
       "\t<tr><td>Muku</td><td>0</td><td>8059.53</td><td>20220628</td><td>4</td><td>0</td></tr>\n",
       "\t<tr><td>Muku</td><td>0</td><td>8059.53</td><td>20220628</td><td>4</td><td>0</td></tr>\n",
       "\t<tr><td>Muku</td><td>0</td><td>8059.53</td><td>20220628</td><td>4</td><td>0</td></tr>\n",
       "</tbody>\n",
       "</table>\n"
      ],
      "text/latex": [
       "A tibble: 6 × 6\n",
       "\\begin{tabular}{llllll}\n",
       " Moon & People\\_total & msq & Date & Time & ppl\\_msq\\\\\n",
       " <chr> & <dbl> & <dbl> & <dbl> & <dbl> & <dbl>\\\\\n",
       "\\hline\n",
       "\t Muku & 0 & 8059.53 & 20220628 & 0 & 0\\\\\n",
       "\t Muku & 0 & 8059.53 & 20220628 & 0 & 0\\\\\n",
       "\t Muku & 0 & 8059.53 & 20220628 & 0 & 0\\\\\n",
       "\t Muku & 0 & 8059.53 & 20220628 & 4 & 0\\\\\n",
       "\t Muku & 0 & 8059.53 & 20220628 & 4 & 0\\\\\n",
       "\t Muku & 0 & 8059.53 & 20220628 & 4 & 0\\\\\n",
       "\\end{tabular}\n"
      ],
      "text/markdown": [
       "\n",
       "A tibble: 6 × 6\n",
       "\n",
       "| Moon &lt;chr&gt; | People_total &lt;dbl&gt; | msq &lt;dbl&gt; | Date &lt;dbl&gt; | Time &lt;dbl&gt; | ppl_msq &lt;dbl&gt; |\n",
       "|---|---|---|---|---|---|\n",
       "| Muku | 0 | 8059.53 | 20220628 | 0 | 0 |\n",
       "| Muku | 0 | 8059.53 | 20220628 | 0 | 0 |\n",
       "| Muku | 0 | 8059.53 | 20220628 | 0 | 0 |\n",
       "| Muku | 0 | 8059.53 | 20220628 | 4 | 0 |\n",
       "| Muku | 0 | 8059.53 | 20220628 | 4 | 0 |\n",
       "| Muku | 0 | 8059.53 | 20220628 | 4 | 0 |\n",
       "\n"
      ],
      "text/plain": [
       "  Moon People_total msq     Date     Time ppl_msq\n",
       "1 Muku 0            8059.53 20220628 0    0      \n",
       "2 Muku 0            8059.53 20220628 0    0      \n",
       "3 Muku 0            8059.53 20220628 0    0      \n",
       "4 Muku 0            8059.53 20220628 4    0      \n",
       "5 Muku 0            8059.53 20220628 4    0      \n",
       "6 Muku 0            8059.53 20220628 4    0      "
      ]
     },
     "metadata": {},
     "output_type": "display_data"
    },
    {
     "data": {
      "text/html": [
       "<table class=\"dataframe\">\n",
       "<caption>A tibble: 6 × 6</caption>\n",
       "<thead>\n",
       "\t<tr><th scope=col>Moon</th><th scope=col>People_total</th><th scope=col>msq</th><th scope=col>Date</th><th scope=col>Time</th><th scope=col>ppl_msq</th></tr>\n",
       "\t<tr><th scope=col>&lt;chr&gt;</th><th scope=col>&lt;dbl&gt;</th><th scope=col>&lt;dbl&gt;</th><th scope=col>&lt;dbl&gt;</th><th scope=col>&lt;dbl&gt;</th><th scope=col>&lt;dbl&gt;</th></tr>\n",
       "</thead>\n",
       "<tbody>\n",
       "\t<tr><td>Hoku</td><td>4</td><td>8059.53</td><td>20220713</td><td>20</td><td>0.0004963069</td></tr>\n",
       "\t<tr><td>Hoku</td><td>4</td><td>8059.53</td><td>20220713</td><td>20</td><td>0.0004963069</td></tr>\n",
       "\t<tr><td>Hoku</td><td>4</td><td>8059.53</td><td>20220713</td><td>20</td><td>0.0004963069</td></tr>\n",
       "\t<tr><td>Hoku</td><td>0</td><td>8059.53</td><td>20220713</td><td>24</td><td>0.0000000000</td></tr>\n",
       "\t<tr><td>Hoku</td><td>0</td><td>8059.53</td><td>20220713</td><td>24</td><td>0.0000000000</td></tr>\n",
       "\t<tr><td>Hoku</td><td>0</td><td>8059.53</td><td>20220713</td><td>24</td><td>0.0000000000</td></tr>\n",
       "</tbody>\n",
       "</table>\n"
      ],
      "text/latex": [
       "A tibble: 6 × 6\n",
       "\\begin{tabular}{llllll}\n",
       " Moon & People\\_total & msq & Date & Time & ppl\\_msq\\\\\n",
       " <chr> & <dbl> & <dbl> & <dbl> & <dbl> & <dbl>\\\\\n",
       "\\hline\n",
       "\t Hoku & 4 & 8059.53 & 20220713 & 20 & 0.0004963069\\\\\n",
       "\t Hoku & 4 & 8059.53 & 20220713 & 20 & 0.0004963069\\\\\n",
       "\t Hoku & 4 & 8059.53 & 20220713 & 20 & 0.0004963069\\\\\n",
       "\t Hoku & 0 & 8059.53 & 20220713 & 24 & 0.0000000000\\\\\n",
       "\t Hoku & 0 & 8059.53 & 20220713 & 24 & 0.0000000000\\\\\n",
       "\t Hoku & 0 & 8059.53 & 20220713 & 24 & 0.0000000000\\\\\n",
       "\\end{tabular}\n"
      ],
      "text/markdown": [
       "\n",
       "A tibble: 6 × 6\n",
       "\n",
       "| Moon &lt;chr&gt; | People_total &lt;dbl&gt; | msq &lt;dbl&gt; | Date &lt;dbl&gt; | Time &lt;dbl&gt; | ppl_msq &lt;dbl&gt; |\n",
       "|---|---|---|---|---|---|\n",
       "| Hoku | 4 | 8059.53 | 20220713 | 20 | 0.0004963069 |\n",
       "| Hoku | 4 | 8059.53 | 20220713 | 20 | 0.0004963069 |\n",
       "| Hoku | 4 | 8059.53 | 20220713 | 20 | 0.0004963069 |\n",
       "| Hoku | 0 | 8059.53 | 20220713 | 24 | 0.0000000000 |\n",
       "| Hoku | 0 | 8059.53 | 20220713 | 24 | 0.0000000000 |\n",
       "| Hoku | 0 | 8059.53 | 20220713 | 24 | 0.0000000000 |\n",
       "\n"
      ],
      "text/plain": [
       "  Moon People_total msq     Date     Time ppl_msq     \n",
       "1 Hoku 4            8059.53 20220713 20   0.0004963069\n",
       "2 Hoku 4            8059.53 20220713 20   0.0004963069\n",
       "3 Hoku 4            8059.53 20220713 20   0.0004963069\n",
       "4 Hoku 0            8059.53 20220713 24   0.0000000000\n",
       "5 Hoku 0            8059.53 20220713 24   0.0000000000\n",
       "6 Hoku 0            8059.53 20220713 24   0.0000000000"
      ]
     },
     "metadata": {},
     "output_type": "display_data"
    }
   ],
   "source": [
    "#preview\n",
    "head(combined_data)\n",
    "tail(combined_data)"
   ]
  },
  {
   "cell_type": "code",
   "execution_count": null,
   "id": "68911487",
   "metadata": {},
   "outputs": [],
   "source": []
  },
  {
   "cell_type": "code",
   "execution_count": null,
   "id": "4955c994",
   "metadata": {},
   "outputs": [],
   "source": []
  },
  {
   "cell_type": "code",
   "execution_count": null,
   "id": "8061dc15",
   "metadata": {},
   "outputs": [],
   "source": []
  }
 ],
 "metadata": {
  "kernelspec": {
   "display_name": "R",
   "language": "R",
   "name": "ir"
  },
  "language_info": {
   "codemirror_mode": "r",
   "file_extension": ".r",
   "mimetype": "text/x-r-source",
   "name": "R",
   "pygments_lexer": "r",
   "version": "4.2.1"
  }
 },
 "nbformat": 4,
 "nbformat_minor": 5
}
