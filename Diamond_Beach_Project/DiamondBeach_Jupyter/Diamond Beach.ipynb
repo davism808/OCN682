{
 "cells": [
  {
   "cell_type": "code",
   "execution_count": 53,
   "metadata": {},
   "outputs": [],
   "source": [
    "library(tidyverse)"
   ]
  },
  {
   "cell_type": "code",
   "execution_count": 54,
   "metadata": {
    "colab": {
     "base_uri": "https://localhost:8080/",
     "height": 69
    },
    "id": "uzPA_bc2oagr",
    "outputId": "1ed2879c-c6fa-469e-aef7-f9d8d1b305ce"
   },
   "outputs": [
    {
     "name": "stdout",
     "output_type": "stream",
     "text": [
      "'data.frame':\t30 obs. of  5 variables:\n",
      " $ Moon        : chr  \"Olekukolu\" \"Olekukolu\" \"Olekukolu\" \"Olekukolu\" ...\n",
      " $ People_total: num  NA NA NA NA NA NA 8 8 8 35 ...\n",
      " $ msq         : num  8060 8060 8060 8060 8060 ...\n",
      " $ Date        : int  20220707 20220707 20220707 20220707 20220707 20220707 20220707 20220707 20220707 20220707 ...\n",
      " $ Time        : num  0 0 0 4 4 4 8 8 8 9 ...\n"
     ]
    }
   ],
   "source": [
    "pple_muku <- data.frame(read.csv(\"pple_muku.csv\"))\n",
    "pple_ole <- data.frame(read.csv(\"pple_ole.csv\"))\n",
    "pple_hoku <- data.frame(read.csv(\"pple_hoku.csv\"))\n",
    "str(pple_ole)"
   ]
  },
  {
   "cell_type": "code",
   "execution_count": 69,
   "metadata": {},
   "outputs": [],
   "source": [
    "pple <- rbind(pple_muku, pple_ole, pple_hoku)\n",
    "colnames(pple)[1] =\"M2\"\n",
    "colnames(pple)[5] =\"T2\""
   ]
  },
  {
   "cell_type": "code",
   "execution_count": 70,
   "metadata": {},
   "outputs": [
    {
     "name": "stdout",
     "output_type": "stream",
     "text": [
      "'data.frame':\t90 obs. of  5 variables:\n",
      " $ M2          : chr  \"Muku\" \"Muku\" \"Muku\" \"Muku\" ...\n",
      " $ People_total: num  0 0 0 0 0 0 7 7 7 9 ...\n",
      " $ msq         : num  8060 8060 8060 8060 8060 ...\n",
      " $ Date        : int  20220628 20220628 20220628 20220628 20220628 20220628 20220628 20220628 20220628 20220628 ...\n",
      " $ T2          : num  0 0 0 4 4 4 8 8 8 9 ...\n"
     ]
    }
   ],
   "source": [
    "pple[is.na(pple)] <- 0\n",
    "str(pple)"
   ]
  },
  {
   "cell_type": "code",
   "execution_count": 71,
   "metadata": {
    "colab": {
     "base_uri": "https://localhost:8080/",
     "height": 255
    },
    "id": "9zENV78oroLC",
    "outputId": "ddc0059b-faf7-4733-ce96-6cffeac044ee"
   },
   "outputs": [],
   "source": [
    "conc_muku <- data.frame(read.csv(\"conc_muku.csv\"))\n",
    "conc_ole <- data.frame(read.csv(\"conc_ole.csv\"))\n",
    "conc_hoku <- data.frame(read.csv(\"conc_hoku.csv\"))"
   ]
  },
  {
   "cell_type": "code",
   "execution_count": 72,
   "metadata": {},
   "outputs": [
    {
     "name": "stdout",
     "output_type": "stream",
     "text": [
      "'data.frame':\t30 obs. of  4 variables:\n",
      " $ Moon: chr  \"Muku\" \"Muku\" \"Muku\" \"Muku\" ...\n",
      " $ Time: int  0 0 0 4 4 4 8 8 8 9 ...\n",
      " $ BP3 : num  12.3 13.9 11.1 20 20.1 ...\n",
      " $ OC  : num  NA NA NA NA NA ...\n",
      "'data.frame':\t30 obs. of  4 variables:\n",
      " $ Moon: chr  \"ʻOlekūkolu\" \"ʻOlekūkolu\" \"ʻOlekūkolu\" \"ʻOlekūkolu\" ...\n",
      " $ Time: int  0 0 0 4 4 4 8 8 8 9 ...\n",
      " $ BP3 : num  21.2 21.5 19.3 20.3 21.7 ...\n",
      " $ OC  : num  NA NA NA 15.6 12.8 ...\n",
      "'data.frame':\t30 obs. of  4 variables:\n",
      " $ Moon: chr  \"Hoku\" \"Hoku\" \"Hoku\" \"Hoku\" ...\n",
      " $ Time: int  0 0 0 4 4 4 8 8 8 9 ...\n",
      " $ BP3 : num  36.9 35.1 35.9 36.6 37.1 ...\n",
      " $ OC  : num  87.4 73.7 71 84.2 109.1 ...\n"
     ]
    }
   ],
   "source": [
    "str(conc_muku)\n",
    "str(conc_ole)\n",
    "str(conc_hoku)"
   ]
  },
  {
   "cell_type": "code",
   "execution_count": 73,
   "metadata": {},
   "outputs": [],
   "source": [
    "conc <- rbind(conc_muku, conc_ole, conc_hoku)"
   ]
  },
  {
   "cell_type": "code",
   "execution_count": 74,
   "metadata": {},
   "outputs": [
    {
     "name": "stdout",
     "output_type": "stream",
     "text": [
      "'data.frame':\t90 obs. of  4 variables:\n",
      " $ Moon: chr  \"Muku\" \"Muku\" \"Muku\" \"Muku\" ...\n",
      " $ Time: int  0 0 0 4 4 4 8 8 8 9 ...\n",
      " $ BP3 : num  12.3 13.9 11.1 20 20.1 ...\n",
      " $ OC  : num  0 0 0 0 0 ...\n"
     ]
    }
   ],
   "source": [
    "conc[is.na(conc)] <- 0\n",
    "str(conc)"
   ]
  },
  {
   "cell_type": "code",
   "execution_count": 87,
   "metadata": {
    "colab": {
     "base_uri": "https://localhost:8080/",
     "height": 437
    },
    "id": "jpAZlmBKt04R",
    "outputId": "de84a514-acd9-4682-f68a-6695893670c1"
   },
   "outputs": [],
   "source": [
    "conc_pple <- cbind(conc,pple)\n",
    "conc_pple_2 <- conc_pple[,-5]\n",
    "conc_pple_3 <- conc_pple_2[,-8]\n",
    "conc_pple_fin <- conc_pple_3 %>% relocate(Date, .after = Moon)"
   ]
  },
  {
   "cell_type": "code",
   "execution_count": null,
   "metadata": {
    "colab": {
     "base_uri": "https://localhost:8080/",
     "height": 474
    },
    "id": "a8SmKZt54L1x",
    "outputId": "3f6294f6-48fb-480d-f5ea-a89404f0f1fd"
   },
   "outputs": [],
   "source": []
  },
  {
   "cell_type": "code",
   "execution_count": null,
   "metadata": {
    "colab": {
     "base_uri": "https://localhost:8080/",
     "height": 414
    },
    "id": "-TEqSRPO5oFC",
    "outputId": "d5859450-be15-4c5e-9721-840a4f953702"
   },
   "outputs": [],
   "source": []
  },
  {
   "cell_type": "code",
   "execution_count": null,
   "metadata": {},
   "outputs": [],
   "source": []
  }
 ],
 "metadata": {
  "colab": {
   "collapsed_sections": [
    "TyQb7VZiLVew",
    "jTuSNzgvML1p",
    "LLXi2YevS_SL",
    "PQd55qyJW3w3",
    "IFcaA1lJWiSD",
    "X0tu1wmr9RrW",
    "pFqdJYoSYgg9",
    "lb33xguQb8Oy",
    "5Q-EXdPQkH78",
    "sOmfzErKnreX",
    "gu18MgwA7ql8",
    "-ojtBSIJHtX4"
   ],
   "name": "Untitled6.ipynb",
   "provenance": [],
   "toc_visible": true
  },
  "kernelspec": {
   "display_name": "R",
   "language": "R",
   "name": "ir"
  },
  "language_info": {
   "codemirror_mode": "r",
   "file_extension": ".r",
   "mimetype": "text/x-r-source",
   "name": "R",
   "pygments_lexer": "r",
   "version": "4.2.1"
  }
 },
 "nbformat": 4,
 "nbformat_minor": 1
}
