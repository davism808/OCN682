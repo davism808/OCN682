{
 "cells": [
  {
   "cell_type": "code",
   "execution_count": 72,
   "id": "ff2aee4a",
   "metadata": {},
   "outputs": [],
   "source": [
    "# Write you library imports here. E.g.:\n",
    "# library(ggplot2 )\n",
    "# ...\n",
    "\n",
    "library(ggplot2)"
   ]
  },
  {
   "cell_type": "code",
   "execution_count": 71,
   "id": "12bcef32",
   "metadata": {},
   "outputs": [],
   "source": [
    "library(tibble)"
   ]
  },
  {
   "cell_type": "markdown",
   "id": "b90fe26e",
   "metadata": {},
   "source": [
    "\n",
    "### Instructions:\n",
    "\n",
    "1. it is considered proper programming practice to load all the libraries you need in the first cell of a notebook or at the top of the R-Markdown file. Put all your imports (e.g., `library(ggplot)`) in the cell above.\n",
    "2. Create as many cells as needed to answer a question\n",
    "  * Group code that is logically related in the same cell\n",
    "  * Keep cells relatively small\n",
    "  * Format long statements or expressions, including `ggplot`, across multiple lines\n",
    "3. Submit your work to GitHub under your MBIO repository.\n",
    "  * Folder should be called `4_apply_and_data`\n",
    "    "
   ]
  },
  {
   "cell_type": "markdown",
   "id": "9d1f436c",
   "metadata": {},
   "source": [
    "### Q1\n",
    "\n",
    "* Write a function called `sd_x` that computes the standard deviation from first principles. Recall that the standard deviation is computed as\n",
    "\n",
    "$$\n",
    "\\sigma = \\sqrt{\\frac{\\sum{(x_i - \\mu)^2}}{N-1}}\n",
    "$$\n",
    "\n",
    "* $\\mu$ is simply the mean of the vector of inputs\n",
    "  * it can be computed using the `mean` function\n",
    "\n",
    "\n",
    "For example, given:\n",
    "\n",
    "```x = c(1,2,3)```\n",
    "\n",
    "Since $\\mu = 2$, then $\\sigma = \\sqrt{\\frac{(1-2)^2 + (2-2)^2 + (3-2)^2}{3}} = 1$.\n"
   ]
  },
  {
   "cell_type": "code",
   "execution_count": 50,
   "id": "a532397f",
   "metadata": {},
   "outputs": [
    {
     "name": "stdout",
     "output_type": "stream",
     "text": [
      "[1] \"sd1\"\n"
     ]
    },
    {
     "data": {
      "text/html": [
       "1.87082869338697"
      ],
      "text/latex": [
       "1.87082869338697"
      ],
      "text/markdown": [
       "1.87082869338697"
      ],
      "text/plain": [
       "[1] 1.870829"
      ]
     },
     "metadata": {},
     "output_type": "display_data"
    },
    {
     "name": "stdout",
     "output_type": "stream",
     "text": [
      "[1] \"sd2\"\n"
     ]
    },
    {
     "data": {
      "text/html": [
       "1.87082869338697"
      ],
      "text/latex": [
       "1.87082869338697"
      ],
      "text/markdown": [
       "1.87082869338697"
      ],
      "text/plain": [
       "[1] 1.870829"
      ]
     },
     "metadata": {},
     "output_type": "display_data"
    }
   ],
   "source": [
    "# Write your code here\n",
    "# use extra cells if needed\n",
    "\n",
    "x = c(1,2,3,4,5,6)\n",
    "n = 6\n",
    "\n",
    "# R Stdev fucntion\n",
    "print(\"sd1\")\n",
    "stdev <- sd(x)\n",
    "stdev \n",
    "\n",
    "#self written stdev function\n",
    "print(\"sd2\")\n",
    "sd_x <- function(x){ stdev <- sqrt((sum((x-mean(x))^2))/(n-1)) }\n",
    "stdev"
   ]
  },
  {
   "cell_type": "markdown",
   "id": "e959fbbe",
   "metadata": {},
   "source": [
    "### Optional Question \n",
    "\n",
    "Remember that we cannot compute the standard deviation of a single value. As such, modify your `sd_x` code to throw an error similar to those R generates when your code contains an error, whenever a user calls `sd_x` with a list containing a single element. Various methods can be used to accomplish this. One such way is by using the [`assertthat` package](https://github.com/hadley/assertthat) "
   ]
  },
  {
   "cell_type": "code",
   "execution_count": 34,
   "id": "5da36d62",
   "metadata": {},
   "outputs": [
    {
     "data": {
      "text/html": [
       "Inf"
      ],
      "text/latex": [
       "Inf"
      ],
      "text/markdown": [
       "Inf"
      ],
      "text/plain": [
       "[1] Inf"
      ]
     },
     "metadata": {},
     "output_type": "display_data"
    }
   ],
   "source": [
    "# Write your code here if you choose to answer the question above\n",
    "# use extra cells if needed\n",
    "\n",
    "y = c(10)\n",
    "n = 1\n",
    "sd_x <- sqrt((sum((x-mean(y))^2))/(n-1))\n",
    "sd_x"
   ]
  },
  {
   "cell_type": "markdown",
   "id": "49cf15c5",
   "metadata": {},
   "source": [
    "### Q2\n",
    "Given the following matrix of data where each column consists of a variable: \n",
    "1. Convert this data frame into a tibble called data_tbl\n",
    "2. Use one of the apply-type of functions in conjunction with `sd_x` you wrote previously to compute the standard deviation for each column.\n"
   ]
  },
  {
   "cell_type": "code",
   "execution_count": 17,
   "id": "778eb309",
   "metadata": {
    "scrolled": true
   },
   "outputs": [
    {
     "data": {
      "text/html": [
       "<table class=\"dataframe\">\n",
       "<caption>A matrix: 10 × 5 of type int</caption>\n",
       "<thead>\n",
       "\t<tr><th scope=col>variable_1</th><th scope=col>variable_2</th><th scope=col>variable_3</th><th scope=col>variable_4</th><th scope=col>variable_5</th></tr>\n",
       "</thead>\n",
       "<tbody>\n",
       "\t<tr><td> 1</td><td>11</td><td>21</td><td>31</td><td>41</td></tr>\n",
       "\t<tr><td> 2</td><td>12</td><td>22</td><td>32</td><td>42</td></tr>\n",
       "\t<tr><td> 3</td><td>13</td><td>23</td><td>33</td><td>43</td></tr>\n",
       "\t<tr><td> 4</td><td>14</td><td>24</td><td>34</td><td>44</td></tr>\n",
       "\t<tr><td> 5</td><td>15</td><td>25</td><td>35</td><td>45</td></tr>\n",
       "\t<tr><td> 6</td><td>16</td><td>26</td><td>36</td><td>46</td></tr>\n",
       "\t<tr><td> 7</td><td>17</td><td>27</td><td>37</td><td>47</td></tr>\n",
       "\t<tr><td> 8</td><td>18</td><td>28</td><td>38</td><td>48</td></tr>\n",
       "\t<tr><td> 9</td><td>19</td><td>29</td><td>39</td><td>49</td></tr>\n",
       "\t<tr><td>10</td><td>20</td><td>30</td><td>40</td><td>50</td></tr>\n",
       "</tbody>\n",
       "</table>\n"
      ],
      "text/latex": [
       "A matrix: 10 × 5 of type int\n",
       "\\begin{tabular}{lllll}\n",
       " variable\\_1 & variable\\_2 & variable\\_3 & variable\\_4 & variable\\_5\\\\\n",
       "\\hline\n",
       "\t  1 & 11 & 21 & 31 & 41\\\\\n",
       "\t  2 & 12 & 22 & 32 & 42\\\\\n",
       "\t  3 & 13 & 23 & 33 & 43\\\\\n",
       "\t  4 & 14 & 24 & 34 & 44\\\\\n",
       "\t  5 & 15 & 25 & 35 & 45\\\\\n",
       "\t  6 & 16 & 26 & 36 & 46\\\\\n",
       "\t  7 & 17 & 27 & 37 & 47\\\\\n",
       "\t  8 & 18 & 28 & 38 & 48\\\\\n",
       "\t  9 & 19 & 29 & 39 & 49\\\\\n",
       "\t 10 & 20 & 30 & 40 & 50\\\\\n",
       "\\end{tabular}\n"
      ],
      "text/markdown": [
       "\n",
       "A matrix: 10 × 5 of type int\n",
       "\n",
       "| variable_1 | variable_2 | variable_3 | variable_4 | variable_5 |\n",
       "|---|---|---|---|---|\n",
       "|  1 | 11 | 21 | 31 | 41 |\n",
       "|  2 | 12 | 22 | 32 | 42 |\n",
       "|  3 | 13 | 23 | 33 | 43 |\n",
       "|  4 | 14 | 24 | 34 | 44 |\n",
       "|  5 | 15 | 25 | 35 | 45 |\n",
       "|  6 | 16 | 26 | 36 | 46 |\n",
       "|  7 | 17 | 27 | 37 | 47 |\n",
       "|  8 | 18 | 28 | 38 | 48 |\n",
       "|  9 | 19 | 29 | 39 | 49 |\n",
       "| 10 | 20 | 30 | 40 | 50 |\n",
       "\n"
      ],
      "text/plain": [
       "      variable_1 variable_2 variable_3 variable_4 variable_5\n",
       " [1,]  1         11         21         31         41        \n",
       " [2,]  2         12         22         32         42        \n",
       " [3,]  3         13         23         33         43        \n",
       " [4,]  4         14         24         34         44        \n",
       " [5,]  5         15         25         35         45        \n",
       " [6,]  6         16         26         36         46        \n",
       " [7,]  7         17         27         37         47        \n",
       " [8,]  8         18         28         38         48        \n",
       " [9,]  9         19         29         39         49        \n",
       "[10,] 10         20         30         40         50        "
      ]
     },
     "metadata": {},
     "output_type": "display_data"
    }
   ],
   "source": [
    "data = matrix(1:50, ncol=5)\n",
    "\n",
    "colnames(data) = c(\"variable_1\", \"variable_2\", \"variable_3\", \"variable_4\", \"variable_5\")\n",
    "data"
   ]
  },
  {
   "cell_type": "code",
   "execution_count": 69,
   "id": "d8de32a8",
   "metadata": {},
   "outputs": [
    {
     "data": {
      "text/html": [
       "<table class=\"dataframe\">\n",
       "<caption>A tibble: 10 × 5</caption>\n",
       "<thead>\n",
       "\t<tr><th scope=col>variable_1</th><th scope=col>variable_2</th><th scope=col>variable_3</th><th scope=col>variable_4</th><th scope=col>variable_5</th></tr>\n",
       "\t<tr><th scope=col>&lt;int&gt;</th><th scope=col>&lt;int&gt;</th><th scope=col>&lt;int&gt;</th><th scope=col>&lt;int&gt;</th><th scope=col>&lt;int&gt;</th></tr>\n",
       "</thead>\n",
       "<tbody>\n",
       "\t<tr><td> 1</td><td>11</td><td>21</td><td>31</td><td>41</td></tr>\n",
       "\t<tr><td> 2</td><td>12</td><td>22</td><td>32</td><td>42</td></tr>\n",
       "\t<tr><td> 3</td><td>13</td><td>23</td><td>33</td><td>43</td></tr>\n",
       "\t<tr><td> 4</td><td>14</td><td>24</td><td>34</td><td>44</td></tr>\n",
       "\t<tr><td> 5</td><td>15</td><td>25</td><td>35</td><td>45</td></tr>\n",
       "\t<tr><td> 6</td><td>16</td><td>26</td><td>36</td><td>46</td></tr>\n",
       "\t<tr><td> 7</td><td>17</td><td>27</td><td>37</td><td>47</td></tr>\n",
       "\t<tr><td> 8</td><td>18</td><td>28</td><td>38</td><td>48</td></tr>\n",
       "\t<tr><td> 9</td><td>19</td><td>29</td><td>39</td><td>49</td></tr>\n",
       "\t<tr><td>10</td><td>20</td><td>30</td><td>40</td><td>50</td></tr>\n",
       "</tbody>\n",
       "</table>\n"
      ],
      "text/latex": [
       "A tibble: 10 × 5\n",
       "\\begin{tabular}{lllll}\n",
       " variable\\_1 & variable\\_2 & variable\\_3 & variable\\_4 & variable\\_5\\\\\n",
       " <int> & <int> & <int> & <int> & <int>\\\\\n",
       "\\hline\n",
       "\t  1 & 11 & 21 & 31 & 41\\\\\n",
       "\t  2 & 12 & 22 & 32 & 42\\\\\n",
       "\t  3 & 13 & 23 & 33 & 43\\\\\n",
       "\t  4 & 14 & 24 & 34 & 44\\\\\n",
       "\t  5 & 15 & 25 & 35 & 45\\\\\n",
       "\t  6 & 16 & 26 & 36 & 46\\\\\n",
       "\t  7 & 17 & 27 & 37 & 47\\\\\n",
       "\t  8 & 18 & 28 & 38 & 48\\\\\n",
       "\t  9 & 19 & 29 & 39 & 49\\\\\n",
       "\t 10 & 20 & 30 & 40 & 50\\\\\n",
       "\\end{tabular}\n"
      ],
      "text/markdown": [
       "\n",
       "A tibble: 10 × 5\n",
       "\n",
       "| variable_1 &lt;int&gt; | variable_2 &lt;int&gt; | variable_3 &lt;int&gt; | variable_4 &lt;int&gt; | variable_5 &lt;int&gt; |\n",
       "|---|---|---|---|---|\n",
       "|  1 | 11 | 21 | 31 | 41 |\n",
       "|  2 | 12 | 22 | 32 | 42 |\n",
       "|  3 | 13 | 23 | 33 | 43 |\n",
       "|  4 | 14 | 24 | 34 | 44 |\n",
       "|  5 | 15 | 25 | 35 | 45 |\n",
       "|  6 | 16 | 26 | 36 | 46 |\n",
       "|  7 | 17 | 27 | 37 | 47 |\n",
       "|  8 | 18 | 28 | 38 | 48 |\n",
       "|  9 | 19 | 29 | 39 | 49 |\n",
       "| 10 | 20 | 30 | 40 | 50 |\n",
       "\n"
      ],
      "text/plain": [
       "   variable_1 variable_2 variable_3 variable_4 variable_5\n",
       "1   1         11         21         31         41        \n",
       "2   2         12         22         32         42        \n",
       "3   3         13         23         33         43        \n",
       "4   4         14         24         34         44        \n",
       "5   5         15         25         35         45        \n",
       "6   6         16         26         36         46        \n",
       "7   7         17         27         37         47        \n",
       "8   8         18         28         38         48        \n",
       "9   9         19         29         39         49        \n",
       "10 10         20         30         40         50        "
      ]
     },
     "metadata": {},
     "output_type": "display_data"
    },
    {
     "data": {
      "text/html": [
       "<style>\n",
       ".dl-inline {width: auto; margin:0; padding: 0}\n",
       ".dl-inline>dt, .dl-inline>dd {float: none; width: auto; display: inline-block}\n",
       ".dl-inline>dt::after {content: \":\\0020\"; padding-right: .5ex}\n",
       ".dl-inline>dt:not(:first-of-type) {padding-left: .5ex}\n",
       "</style><dl class=dl-inline><dt>variable_1</dt><dd>3.02765035409749</dd><dt>variable_2</dt><dd>3.02765035409749</dd><dt>variable_3</dt><dd>3.02765035409749</dd><dt>variable_4</dt><dd>3.02765035409749</dd><dt>variable_5</dt><dd>3.02765035409749</dd></dl>\n"
      ],
      "text/latex": [
       "\\begin{description*}\n",
       "\\item[variable\\textbackslash{}\\_1] 3.02765035409749\n",
       "\\item[variable\\textbackslash{}\\_2] 3.02765035409749\n",
       "\\item[variable\\textbackslash{}\\_3] 3.02765035409749\n",
       "\\item[variable\\textbackslash{}\\_4] 3.02765035409749\n",
       "\\item[variable\\textbackslash{}\\_5] 3.02765035409749\n",
       "\\end{description*}\n"
      ],
      "text/markdown": [
       "variable_1\n",
       ":   3.02765035409749variable_2\n",
       ":   3.02765035409749variable_3\n",
       ":   3.02765035409749variable_4\n",
       ":   3.02765035409749variable_5\n",
       ":   3.02765035409749\n",
       "\n"
      ],
      "text/plain": [
       "variable_1 variable_2 variable_3 variable_4 variable_5 \n",
       "   3.02765    3.02765    3.02765    3.02765    3.02765 "
      ]
     },
     "metadata": {},
     "output_type": "display_data"
    }
   ],
   "source": [
    "# Write your code here\n",
    "# use extra cells if needed\n",
    "\n",
    "as_tibble(data)\n",
    "\n",
    "n = 10\n",
    "\n",
    "apply(data,2,sd_x)"
   ]
  },
  {
   "cell_type": "markdown",
   "id": "dec09c62",
   "metadata": {},
   "source": [
    "### Q3\n",
    "\n",
    "* In this question, we will build a simulated dataset for healthy and diseased corals.  You will be creating a `tibble` called `coral_health_tbl` that contains 2 columns:\n",
    "\n",
    "1. A column called `coral`. Generate this column by sampling 100 coral species from the following values\n",
    "```\n",
    "coral_pop = c(\"Montipora capitata\",\n",
    "  \"Porites compressa\",\n",
    "  \"Porites lobata\")\n",
    "```\n",
    " * You can use the function `sample` to select 100 values from the vector `coral_pop`\n",
    "   * You can see how the function sample works [here](https://www.rdocumentation.org/packages/base/versions/3.6.2/topics/sample)\n",
    " \n",
    "2. The second column is called `is_diseased`.\n",
    "    * it represents 100 randomly selected `TRUE` or `FALSE` values that represent whether the coral is healthy or diseased.\n",
    "    * Healthy corals (`is_diseased == FALSE`; not diseased) occur with a probability of 0.8, i.e. (`is_diseased == TRUE`) occurs with a probability of 0.2\n"
   ]
  },
  {
   "cell_type": "code",
   "execution_count": 93,
   "id": "7bf3ae1b",
   "metadata": {},
   "outputs": [],
   "source": [
    "# Write your code here\n",
    "# use extra cells if needed\n",
    "coral_pop = c(\"Montipora capitata\", \"Porites compressa\", \"Porites lobata\")"
   ]
  },
  {
   "cell_type": "code",
   "execution_count": 97,
   "id": "a492fa31",
   "metadata": {},
   "outputs": [],
   "source": [
    "coral <- sample(coral_pop, 100, replace = TRUE)"
   ]
  },
  {
   "cell_type": "code",
   "execution_count": 122,
   "id": "cdbbf668",
   "metadata": {},
   "outputs": [],
   "source": [
    "is_diseased <- sample(c(TRUE, FALSE), 100, replace = TRUE, prob = c(0.8, 0.2))"
   ]
  },
  {
   "cell_type": "code",
   "execution_count": 126,
   "id": "f5e44c0e",
   "metadata": {},
   "outputs": [],
   "source": [
    "coral_health <- data.frame(coral, is_diseased)"
   ]
  },
  {
   "cell_type": "code",
   "execution_count": 127,
   "id": "fb131b18",
   "metadata": {},
   "outputs": [
    {
     "data": {
      "text/html": [
       "<table class=\"dataframe\">\n",
       "<caption>A tibble: 6 × 2</caption>\n",
       "<thead>\n",
       "\t<tr><th scope=col>coral</th><th scope=col>is_diseased</th></tr>\n",
       "\t<tr><th scope=col>&lt;chr&gt;</th><th scope=col>&lt;lgl&gt;</th></tr>\n",
       "</thead>\n",
       "<tbody>\n",
       "\t<tr><td>Montipora capitata</td><td> TRUE</td></tr>\n",
       "\t<tr><td>Montipora capitata</td><td> TRUE</td></tr>\n",
       "\t<tr><td>Montipora capitata</td><td>FALSE</td></tr>\n",
       "\t<tr><td>Porites compressa </td><td> TRUE</td></tr>\n",
       "\t<tr><td>Porites compressa </td><td> TRUE</td></tr>\n",
       "\t<tr><td>Montipora capitata</td><td>FALSE</td></tr>\n",
       "</tbody>\n",
       "</table>\n"
      ],
      "text/latex": [
       "A tibble: 6 × 2\n",
       "\\begin{tabular}{ll}\n",
       " coral & is\\_diseased\\\\\n",
       " <chr> & <lgl>\\\\\n",
       "\\hline\n",
       "\t Montipora capitata &  TRUE\\\\\n",
       "\t Montipora capitata &  TRUE\\\\\n",
       "\t Montipora capitata & FALSE\\\\\n",
       "\t Porites compressa  &  TRUE\\\\\n",
       "\t Porites compressa  &  TRUE\\\\\n",
       "\t Montipora capitata & FALSE\\\\\n",
       "\\end{tabular}\n"
      ],
      "text/markdown": [
       "\n",
       "A tibble: 6 × 2\n",
       "\n",
       "| coral &lt;chr&gt; | is_diseased &lt;lgl&gt; |\n",
       "|---|---|\n",
       "| Montipora capitata |  TRUE |\n",
       "| Montipora capitata |  TRUE |\n",
       "| Montipora capitata | FALSE |\n",
       "| Porites compressa  |  TRUE |\n",
       "| Porites compressa  |  TRUE |\n",
       "| Montipora capitata | FALSE |\n",
       "\n"
      ],
      "text/plain": [
       "  coral              is_diseased\n",
       "1 Montipora capitata  TRUE      \n",
       "2 Montipora capitata  TRUE      \n",
       "3 Montipora capitata FALSE      \n",
       "4 Porites compressa   TRUE      \n",
       "5 Porites compressa   TRUE      \n",
       "6 Montipora capitata FALSE      "
      ]
     },
     "metadata": {},
     "output_type": "display_data"
    }
   ],
   "source": [
    "coral_health_tbl <- as_tibble(coral_health)\n",
    "head(coral_health_tbl)"
   ]
  },
  {
   "cell_type": "markdown",
   "id": "dacc2558",
   "metadata": {},
   "source": [
    "### Q4\n",
    "\n",
    "* The function `rnorm` is used to sample (i.e., produce) random values from a normal distribution. The syntax of the function is as follows:\n",
    "```\n",
    "rnorm(n, mu, sd)\n",
    "```\n",
    "where n is the number of samples to generate, mu is the mean of the distribution and `sd` is the standard deviation.\n",
    "\n",
    "Essentially what the function does is generate `n` random values from a normal distribution that is centered around the mean `mu` and has the standard deviation defined by the parameter `sd`. If you do not understand what this statement means, you should not worry as we will cover it in greater detail in the next section. However, you must know that this function generates n random values that are in some way close to the provided mean (`mu`) you provided.\n",
    "\n",
    "Use the cell below to experiment with the function `rnorm`. E.g.: try to generate 5 values from the distribution with a mean 10 and a standard deviation 1."
   ]
  },
  {
   "cell_type": "code",
   "execution_count": 135,
   "id": "9aa5b82e",
   "metadata": {},
   "outputs": [
    {
     "data": {
      "text/html": [
       "<style>\n",
       ".list-inline {list-style: none; margin:0; padding: 0}\n",
       ".list-inline>li {display: inline-block}\n",
       ".list-inline>li:not(:last-child)::after {content: \"\\00b7\"; padding: 0 .5ex}\n",
       "</style>\n",
       "<ol class=list-inline><li>10.750593650167</li><li>11.7595357751682</li><li>10.641273156851</li><li>10.211235286467</li><li>10.1880121844001</li></ol>\n"
      ],
      "text/latex": [
       "\\begin{enumerate*}\n",
       "\\item 10.750593650167\n",
       "\\item 11.7595357751682\n",
       "\\item 10.641273156851\n",
       "\\item 10.211235286467\n",
       "\\item 10.1880121844001\n",
       "\\end{enumerate*}\n"
      ],
      "text/markdown": [
       "1. 10.750593650167\n",
       "2. 11.7595357751682\n",
       "3. 10.641273156851\n",
       "4. 10.211235286467\n",
       "5. 10.1880121844001\n",
       "\n",
       "\n"
      ],
      "text/plain": [
       "[1] 10.75059 11.75954 10.64127 10.21124 10.18801"
      ]
     },
     "metadata": {},
     "output_type": "display_data"
    }
   ],
   "source": [
    "# Write your code here\n",
    "# use extra cells if needed\n",
    "\n",
    "rnorm(5, 10, 1)"
   ]
  },
  {
   "cell_type": "markdown",
   "id": "0b6d0045",
   "metadata": {},
   "source": [
    "### Q5\n",
    "* Create a new column in `coral_health_tbl` called `coral_cover`. This column represents coral cover values for the corals observed in your tibble\n",
    "* For the healthy coral (`is_diseased == FALSE`), sample the cover values from a normal with a mean of 9 and standard deviation of 2\n",
    "* For the diseased corals (`health_status = TRUE`), sample the cover values from a normal with mean 1 and std of 3\n",
    "* Note that this is a perfect scenario for using `mapply`\n"
   ]
  },
  {
   "cell_type": "code",
   "execution_count": 162,
   "id": "de8efd8c",
   "metadata": {},
   "outputs": [],
   "source": [
    "# Write your code here\n",
    "# use extra cells if needed\n",
    "?mapply"
   ]
  },
  {
   "cell_type": "code",
   "execution_count": 168,
   "id": "564c5666",
   "metadata": {},
   "outputs": [],
   "source": [
    "generate_cover = function(x){ \n",
    "if (x == FALSE){\n",
    "    rnorm(1,9,2)\n",
    "} else (x == TRUE)\n",
    "rnorm(1,1,3)\n",
    "    }"
   ]
  },
  {
   "cell_type": "code",
   "execution_count": 171,
   "id": "061cdb13",
   "metadata": {},
   "outputs": [],
   "source": [
    "coral_health_tbl$coral_cover <- mapply(generate_cover, is_diseased)"
   ]
  },
  {
   "cell_type": "code",
   "execution_count": 173,
   "id": "a4776774",
   "metadata": {},
   "outputs": [
    {
     "data": {
      "text/html": [
       "<table class=\"dataframe\">\n",
       "<caption>A tibble: 6 × 3</caption>\n",
       "<thead>\n",
       "\t<tr><th scope=col>coral</th><th scope=col>is_diseased</th><th scope=col>coral_cover</th></tr>\n",
       "\t<tr><th scope=col>&lt;chr&gt;</th><th scope=col>&lt;lgl&gt;</th><th scope=col>&lt;dbl&gt;</th></tr>\n",
       "</thead>\n",
       "<tbody>\n",
       "\t<tr><td>Montipora capitata</td><td> TRUE</td><td> 5.246601</td></tr>\n",
       "\t<tr><td>Montipora capitata</td><td> TRUE</td><td> 4.081750</td></tr>\n",
       "\t<tr><td>Montipora capitata</td><td>FALSE</td><td> 2.298217</td></tr>\n",
       "\t<tr><td>Porites compressa </td><td> TRUE</td><td> 2.036272</td></tr>\n",
       "\t<tr><td>Porites compressa </td><td> TRUE</td><td>-2.884526</td></tr>\n",
       "\t<tr><td>Montipora capitata</td><td>FALSE</td><td> 6.755176</td></tr>\n",
       "</tbody>\n",
       "</table>\n"
      ],
      "text/latex": [
       "A tibble: 6 × 3\n",
       "\\begin{tabular}{lll}\n",
       " coral & is\\_diseased & coral\\_cover\\\\\n",
       " <chr> & <lgl> & <dbl>\\\\\n",
       "\\hline\n",
       "\t Montipora capitata &  TRUE &  5.246601\\\\\n",
       "\t Montipora capitata &  TRUE &  4.081750\\\\\n",
       "\t Montipora capitata & FALSE &  2.298217\\\\\n",
       "\t Porites compressa  &  TRUE &  2.036272\\\\\n",
       "\t Porites compressa  &  TRUE & -2.884526\\\\\n",
       "\t Montipora capitata & FALSE &  6.755176\\\\\n",
       "\\end{tabular}\n"
      ],
      "text/markdown": [
       "\n",
       "A tibble: 6 × 3\n",
       "\n",
       "| coral &lt;chr&gt; | is_diseased &lt;lgl&gt; | coral_cover &lt;dbl&gt; |\n",
       "|---|---|---|\n",
       "| Montipora capitata |  TRUE |  5.246601 |\n",
       "| Montipora capitata |  TRUE |  4.081750 |\n",
       "| Montipora capitata | FALSE |  2.298217 |\n",
       "| Porites compressa  |  TRUE |  2.036272 |\n",
       "| Porites compressa  |  TRUE | -2.884526 |\n",
       "| Montipora capitata | FALSE |  6.755176 |\n",
       "\n"
      ],
      "text/plain": [
       "  coral              is_diseased coral_cover\n",
       "1 Montipora capitata  TRUE        5.246601  \n",
       "2 Montipora capitata  TRUE        4.081750  \n",
       "3 Montipora capitata FALSE        2.298217  \n",
       "4 Porites compressa   TRUE        2.036272  \n",
       "5 Porites compressa   TRUE       -2.884526  \n",
       "6 Montipora capitata FALSE        6.755176  "
      ]
     },
     "metadata": {},
     "output_type": "display_data"
    }
   ],
   "source": [
    "head(coral_health_tbl)"
   ]
  },
  {
   "cell_type": "markdown",
   "id": "fa18322d",
   "metadata": {},
   "source": [
    "### Q6\n",
    "\n",
    "* Add another column called `binary_health_status`.\n",
    " * set the column to 0 if `is_diseased == FALSE`\n",
    " * set the column to 1 if `is_diseased == TRUE`\n",
    "\n",
    "* A trick here is to remember that:\n",
    "  1. Corecing (converting) a logical can be done with `as.integer()`\n",
    "  2. `as.integer(TRUE)` returns 1\n",
    "  3. `as.integer(FALSE)` returns 0\n",
    "\n",
    "\n"
   ]
  },
  {
   "cell_type": "code",
   "execution_count": 190,
   "id": "32359154",
   "metadata": {},
   "outputs": [],
   "source": [
    "generate_binary = function(x){\n",
    "    if(x == TRUE){\n",
    "        as.integer(TRUE)\n",
    "    } else(x == FALSE)\n",
    "        as.integer(FALSE)\n",
    "    }"
   ]
  },
  {
   "cell_type": "code",
   "execution_count": 191,
   "id": "f6a0662d",
   "metadata": {},
   "outputs": [
    {
     "data": {
      "text/html": [
       "<table class=\"dataframe\">\n",
       "<caption>A tibble: 6 × 4</caption>\n",
       "<thead>\n",
       "\t<tr><th scope=col>coral</th><th scope=col>is_diseased</th><th scope=col>coral_cover</th><th scope=col>binary_health_status</th></tr>\n",
       "\t<tr><th scope=col>&lt;chr&gt;</th><th scope=col>&lt;lgl&gt;</th><th scope=col>&lt;dbl&gt;</th><th scope=col>&lt;int&gt;</th></tr>\n",
       "</thead>\n",
       "<tbody>\n",
       "\t<tr><td>Montipora capitata</td><td> TRUE</td><td> 5.246601</td><td>0</td></tr>\n",
       "\t<tr><td>Montipora capitata</td><td> TRUE</td><td> 4.081750</td><td>0</td></tr>\n",
       "\t<tr><td>Montipora capitata</td><td>FALSE</td><td> 2.298217</td><td>0</td></tr>\n",
       "\t<tr><td>Porites compressa </td><td> TRUE</td><td> 2.036272</td><td>0</td></tr>\n",
       "\t<tr><td>Porites compressa </td><td> TRUE</td><td>-2.884526</td><td>0</td></tr>\n",
       "\t<tr><td>Montipora capitata</td><td>FALSE</td><td> 6.755176</td><td>0</td></tr>\n",
       "</tbody>\n",
       "</table>\n"
      ],
      "text/latex": [
       "A tibble: 6 × 4\n",
       "\\begin{tabular}{llll}\n",
       " coral & is\\_diseased & coral\\_cover & binary\\_health\\_status\\\\\n",
       " <chr> & <lgl> & <dbl> & <int>\\\\\n",
       "\\hline\n",
       "\t Montipora capitata &  TRUE &  5.246601 & 0\\\\\n",
       "\t Montipora capitata &  TRUE &  4.081750 & 0\\\\\n",
       "\t Montipora capitata & FALSE &  2.298217 & 0\\\\\n",
       "\t Porites compressa  &  TRUE &  2.036272 & 0\\\\\n",
       "\t Porites compressa  &  TRUE & -2.884526 & 0\\\\\n",
       "\t Montipora capitata & FALSE &  6.755176 & 0\\\\\n",
       "\\end{tabular}\n"
      ],
      "text/markdown": [
       "\n",
       "A tibble: 6 × 4\n",
       "\n",
       "| coral &lt;chr&gt; | is_diseased &lt;lgl&gt; | coral_cover &lt;dbl&gt; | binary_health_status &lt;int&gt; |\n",
       "|---|---|---|---|\n",
       "| Montipora capitata |  TRUE |  5.246601 | 0 |\n",
       "| Montipora capitata |  TRUE |  4.081750 | 0 |\n",
       "| Montipora capitata | FALSE |  2.298217 | 0 |\n",
       "| Porites compressa  |  TRUE |  2.036272 | 0 |\n",
       "| Porites compressa  |  TRUE | -2.884526 | 0 |\n",
       "| Montipora capitata | FALSE |  6.755176 | 0 |\n",
       "\n"
      ],
      "text/plain": [
       "  coral              is_diseased coral_cover binary_health_status\n",
       "1 Montipora capitata  TRUE        5.246601   0                   \n",
       "2 Montipora capitata  TRUE        4.081750   0                   \n",
       "3 Montipora capitata FALSE        2.298217   0                   \n",
       "4 Porites compressa   TRUE        2.036272   0                   \n",
       "5 Porites compressa   TRUE       -2.884526   0                   \n",
       "6 Montipora capitata FALSE        6.755176   0                   "
      ]
     },
     "metadata": {},
     "output_type": "display_data"
    }
   ],
   "source": [
    "coral_health_tbl$binary_health_status <- mapply(generate_binary, is_diseased)\n",
    "head(coral_health_tbl)"
   ]
  },
  {
   "cell_type": "markdown",
   "id": "a6e28e80",
   "metadata": {},
   "source": [
    "### Q7\n",
    "\n",
    "* Plot the distribution of `coral_cover` for healthy versus diseased corals\n",
    "* Note that I am using the histogram `geom`\n",
    "  * Histograms need only an `x`-axis because the `y` is typically computed as the number of items occurring in a bin of some predetermined width.\n",
    "    * However, instead of a raw count, we want a normalized count. You can normalize the count by setting `y = stat(count / sum(count))`  \n",
    "  * I am coloring the bin outlines in black and filling in grey for disease and white for healthy\n",
    "  * I am using `binwidth=1'.\n",
    "* Use the `labs` function to add a title and to change the labels for the `x` and `y` axes\n",
    "* The plot should look \"somewhat\" like the following\n",
    "![](https://www.dropbox.com/s/wdbdj05rd50vb0k/healthy-diseased.png?dl=1)"
   ]
  },
  {
   "cell_type": "code",
   "execution_count": null,
   "id": "f3d93f06",
   "metadata": {},
   "outputs": [],
   "source": []
  },
  {
   "cell_type": "markdown",
   "id": "5a9538df",
   "metadata": {},
   "source": [
    "### Q8\n",
    "\n",
    "* Use `geom_density` to mirror the information conveyed in the histogram above using density curves instead of histograms.\n",
    "  * Set the `adjust` parameter of `geom_density` to `2`\n",
    "* Change the `xlim` scale so that we can see the edges of the curves\n",
    "  * I.e., curves should not be cut off\n",
    "  \n",
    "* The resulting curve will look like the following\n",
    "![](https://www.dropbox.com/s/rs4rx0w6ur8p5wq/coral_distr_practical.png?dl=1)\n"
   ]
  },
  {
   "cell_type": "markdown",
   "id": "8c811bda",
   "metadata": {},
   "source": [
    "### Q9\n",
    "\n",
    "You have been provided with the dataset illustrated in the image below, which contains counts for 20 fish species across 5 locations. For convenience, only two species and 2 locations are illustrated here. Based on your knowledge of tidy data, how can you format the data shown in this file in a way that is considered `tidy`. Provide an image of a hand-drawn table (or tables if needed) that represents the table format. Briefly justify your answer in a 3-4 sentences.\n",
    "\n"
   ]
  },
  {
   "cell_type": "markdown",
   "id": "dc9eae84",
   "metadata": {},
   "source": [
    "![](Users/madidavis/Desktop/Fish_table.png)"
   ]
  },
  {
   "cell_type": "markdown",
   "id": "784fa644",
   "metadata": {},
   "source": [
    "### Q10 -- Challenge (Optional)\n",
    "\n",
    "\n",
    "Recall problem `8` in the airquality dataset.\n",
    "  * Remember that you can import that dataset using `data(airquality)`\n",
    "1. Convert the `airquality` dataframe to a tibble called `airq_tbl`\n",
    "2. Replace the missing values for Solar.R using that month's average.\n",
    "    * Example:\n",
    "        * The missing value for line 6 in `airq_tbl`should be replaced with the average for month 5.\n",
    "        * The missing value for line 97 in `airq_tbl` should be replaced with the average for month 8.\n",
    "\n",
    "* Strategy:\n",
    "  1. Compute the average values for months 5, 6, 7, 8, and 9 in a names vector called `monthly_avg_SolarR`\n",
    "      * `monthly_avg_SolarR[5]` should return the average for May.\n",
    "      * `monthly_avg_SolarR[6]` should return the average for June.\n",
    "      * etc.\n",
    "      * This is an ideal use case for `tapply` with `na.rm=TRUE` (ask me!)\n",
    "  2. for each line of airq_tbl check value of Solar.R and do:\n",
    "    * if value is not `na`, return the value\n",
    "    * if value if `na`; return avg associated with `Month`\n",
    "    * This is an ideal case for `apply`\n",
    "      * You need to write your own function (call it `fix_missing_solar_R`)\n",
    "      * Recall that the argument to that function is a complete row as a vector!\n",
    "    * test your function with the following line to make sure it's working\n",
    "    ```fix_missing_solar_R(airq_tbl[5,])```"
   ]
  }
 ],
 "metadata": {
  "kernelspec": {
   "display_name": "R",
   "language": "R",
   "name": "ir"
  },
  "language_info": {
   "codemirror_mode": "r",
   "file_extension": ".r",
   "mimetype": "text/x-r-source",
   "name": "R",
   "pygments_lexer": "r",
   "version": "4.2.1"
  }
 },
 "nbformat": 4,
 "nbformat_minor": 5
}
