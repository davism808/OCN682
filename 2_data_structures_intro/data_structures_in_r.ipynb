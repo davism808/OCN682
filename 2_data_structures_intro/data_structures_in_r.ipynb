{
 "cells": [
  {
   "cell_type": "markdown",
   "id": "09d2c261",
   "metadata": {
    "pycharm": {
     "name": "#%% md\n"
    }
   },
   "source": [
    "### Question 0\n",
    "\n",
    "*  Draw a concepts diagram that uses all the following Github terminology \n",
    "   * Include any missing keywords that will simplify the concepts diagrams \n",
    "\n",
    "\n",
    "`Push`, `Repository`, `Clone`, `Pull`, `Pull Request`, `Branch`, `Merging`, `Github Client`, `README file`, `Private or Public`\n"
   ]
  },
  {
   "attachments": {
    "Diagram%202.png": {
     "image/png": "[encoded data removed]"
    }
   },
   "cell_type": "markdown",
   "id": "a3668d09",
   "metadata": {
    "pycharm": {
     "name": "#%%\n"
    }
   },
   "source": [
    "# Add your photo here\n",
    "![Diagram%202.png](attachment:Diagram%202.png)"
   ]
  },
  {
   "cell_type": "markdown",
   "id": "1b89533c",
   "metadata": {
    "pycharm": {
     "name": "#%% md\n"
    }
   },
   "source": [
    "#### Question 1\n",
    "\n",
    "`matrix(c(1,2,3,4,5,6) , nrow = 3)`\n",
    "\n",
    "* Running the expression produces the following matrix\n",
    "\n",
    "|  |  |\n",
    "|---|---|\n",
    "| 1 | 4 |\n",
    "| 2 | 5 |\n",
    "| 3 | 6 |\n",
    "\n",
    "* How can you modify the call to `matrix()` to produce the following matrix instead?\n",
    "\n",
    "|   | col_1 |  col_2 |\n",
    "| --- |---|---|\n",
    "| row_1 | 1 | 2 |\n",
    "| row_2 | 3 | 4 |\n",
    "| row_3 | 5 | 6 |\n",
    "\n",
    "* Note that you need to name the columns (col_1 and col_2) and name the rows (row_1, row_2, row_3)\n",
    "\n",
    "Hint: Use the `?` symbol to invoke the matrix documentation"
   ]
  },
  {
   "cell_type": "code",
   "execution_count": 1,
   "id": "c222bc32",
   "metadata": {},
   "outputs": [
    {
     "data": {
      "text/html": [
       "<table class=\"dataframe\">\n",
       "<caption>A matrix: 3 × 2 of type int</caption>\n",
       "<tbody>\n",
       "\t<tr><td>1</td><td>4</td></tr>\n",
       "\t<tr><td>2</td><td>5</td></tr>\n",
       "\t<tr><td>3</td><td>6</td></tr>\n",
       "</tbody>\n",
       "</table>\n"
      ],
      "text/latex": [
       "A matrix: 3 × 2 of type int\n",
       "\\begin{tabular}{ll}\n",
       "\t 1 & 4\\\\\n",
       "\t 2 & 5\\\\\n",
       "\t 3 & 6\\\\\n",
       "\\end{tabular}\n"
      ],
      "text/markdown": [
       "\n",
       "A matrix: 3 × 2 of type int\n",
       "\n",
       "| 1 | 4 |\n",
       "| 2 | 5 |\n",
       "| 3 | 6 |\n",
       "\n"
      ],
      "text/plain": [
       "     [,1] [,2]\n",
       "[1,] 1    4   \n",
       "[2,] 2    5   \n",
       "[3,] 3    6   "
      ]
     },
     "metadata": {},
     "output_type": "display_data"
    }
   ],
   "source": [
    "test_matrix = matrix(c(1:6), nrow=3)\n",
    "test_matrix"
   ]
  },
  {
   "cell_type": "code",
   "execution_count": 2,
   "id": "348de558",
   "metadata": {},
   "outputs": [
    {
     "data": {
      "text/html": [
       "<table class=\"dataframe\">\n",
       "<caption>A matrix: 3 × 2 of type int</caption>\n",
       "<thead>\n",
       "\t<tr><th></th><th scope=col>col_1</th><th scope=col>col_2</th></tr>\n",
       "</thead>\n",
       "<tbody>\n",
       "\t<tr><th scope=row>row_1</th><td>1</td><td>4</td></tr>\n",
       "\t<tr><th scope=row>row_2</th><td>2</td><td>5</td></tr>\n",
       "\t<tr><th scope=row>row_3</th><td>3</td><td>6</td></tr>\n",
       "</tbody>\n",
       "</table>\n"
      ],
      "text/latex": [
       "A matrix: 3 × 2 of type int\n",
       "\\begin{tabular}{r|ll}\n",
       "  & col\\_1 & col\\_2\\\\\n",
       "\\hline\n",
       "\trow\\_1 & 1 & 4\\\\\n",
       "\trow\\_2 & 2 & 5\\\\\n",
       "\trow\\_3 & 3 & 6\\\\\n",
       "\\end{tabular}\n"
      ],
      "text/markdown": [
       "\n",
       "A matrix: 3 × 2 of type int\n",
       "\n",
       "| <!--/--> | col_1 | col_2 |\n",
       "|---|---|---|\n",
       "| row_1 | 1 | 4 |\n",
       "| row_2 | 2 | 5 |\n",
       "| row_3 | 3 | 6 |\n",
       "\n"
      ],
      "text/plain": [
       "      col_1 col_2\n",
       "row_1 1     4    \n",
       "row_2 2     5    \n",
       "row_3 3     6    "
      ]
     },
     "metadata": {},
     "output_type": "display_data"
    }
   ],
   "source": [
    "rownames(test_matrix) = c(\"row_1\", \"row_2\", \"row_3\")\n",
    "colnames(test_matrix) = c(\"col_1\", \"col_2\")\n",
    "test_matrix"
   ]
  },
  {
   "cell_type": "markdown",
   "id": "ba4962d3",
   "metadata": {
    "pycharm": {
     "name": "#%% md\n"
    }
   },
   "source": [
    "#### Question 2\n",
    "\n",
    "* Load then sort the airquality data frame on its `Temp` and `Solar.R` columns in reverse order (largest to smallest values)\n",
    "  * The function to sort a data frame is called order\n",
    "* Display only the first 15 lines of your table"
   ]
  },
  {
   "cell_type": "code",
   "execution_count": null,
   "id": "f700a182",
   "metadata": {},
   "outputs": [],
   "source": [
    "data(\"airquality\")"
   ]
  },
  {
   "cell_type": "code",
   "execution_count": 3,
   "id": "a8bcd919",
   "metadata": {
    "scrolled": false
   },
   "outputs": [
    {
     "data": {
      "text/html": [
       "<table class=\"dataframe\">\n",
       "<caption>A data.frame: 15 × 6</caption>\n",
       "<thead>\n",
       "\t<tr><th></th><th scope=col>Ozone</th><th scope=col>Solar.R</th><th scope=col>Wind</th><th scope=col>Temp</th><th scope=col>Month</th><th scope=col>Day</th></tr>\n",
       "\t<tr><th></th><th scope=col>&lt;int&gt;</th><th scope=col>&lt;int&gt;</th><th scope=col>&lt;dbl&gt;</th><th scope=col>&lt;int&gt;</th><th scope=col>&lt;int&gt;</th><th scope=col>&lt;int&gt;</th></tr>\n",
       "</thead>\n",
       "<tbody>\n",
       "\t<tr><th scope=row>120</th><td> 76</td><td>203</td><td> 9.7</td><td>97</td><td>8</td><td>28</td></tr>\n",
       "\t<tr><th scope=row>122</th><td> 84</td><td>237</td><td> 6.3</td><td>96</td><td>8</td><td>30</td></tr>\n",
       "\t<tr><th scope=row>121</th><td>118</td><td>225</td><td> 2.3</td><td>94</td><td>8</td><td>29</td></tr>\n",
       "\t<tr><th scope=row>123</th><td> 85</td><td>188</td><td> 6.3</td><td>94</td><td>8</td><td>31</td></tr>\n",
       "\t<tr><th scope=row>42</th><td> NA</td><td>259</td><td>10.9</td><td>93</td><td>6</td><td>11</td></tr>\n",
       "\t<tr><th scope=row>127</th><td> 91</td><td>189</td><td> 4.6</td><td>93</td><td>9</td><td> 4</td></tr>\n",
       "\t<tr><th scope=row>126</th><td> 73</td><td>183</td><td> 2.8</td><td>93</td><td>9</td><td> 3</td></tr>\n",
       "\t<tr><th scope=row>70</th><td> 97</td><td>272</td><td> 5.7</td><td>92</td><td>7</td><td> 9</td></tr>\n",
       "\t<tr><th scope=row>69</th><td> 97</td><td>267</td><td> 6.3</td><td>92</td><td>7</td><td> 8</td></tr>\n",
       "\t<tr><th scope=row>43</th><td> NA</td><td>250</td><td> 9.2</td><td>92</td><td>6</td><td>12</td></tr>\n",
       "\t<tr><th scope=row>102</th><td> NA</td><td>222</td><td> 8.6</td><td>92</td><td>8</td><td>10</td></tr>\n",
       "\t<tr><th scope=row>125</th><td> 78</td><td>197</td><td> 5.1</td><td>92</td><td>9</td><td> 2</td></tr>\n",
       "\t<tr><th scope=row>75</th><td> NA</td><td>291</td><td>14.9</td><td>91</td><td>7</td><td>14</td></tr>\n",
       "\t<tr><th scope=row>124</th><td> 96</td><td>167</td><td> 6.9</td><td>91</td><td>9</td><td> 1</td></tr>\n",
       "\t<tr><th scope=row>40</th><td> 71</td><td>291</td><td>13.8</td><td>90</td><td>6</td><td> 9</td></tr>\n",
       "</tbody>\n",
       "</table>\n"
      ],
      "text/latex": [
       "A data.frame: 15 × 6\n",
       "\\begin{tabular}{r|llllll}\n",
       "  & Ozone & Solar.R & Wind & Temp & Month & Day\\\\\n",
       "  & <int> & <int> & <dbl> & <int> & <int> & <int>\\\\\n",
       "\\hline\n",
       "\t120 &  76 & 203 &  9.7 & 97 & 8 & 28\\\\\n",
       "\t122 &  84 & 237 &  6.3 & 96 & 8 & 30\\\\\n",
       "\t121 & 118 & 225 &  2.3 & 94 & 8 & 29\\\\\n",
       "\t123 &  85 & 188 &  6.3 & 94 & 8 & 31\\\\\n",
       "\t42 &  NA & 259 & 10.9 & 93 & 6 & 11\\\\\n",
       "\t127 &  91 & 189 &  4.6 & 93 & 9 &  4\\\\\n",
       "\t126 &  73 & 183 &  2.8 & 93 & 9 &  3\\\\\n",
       "\t70 &  97 & 272 &  5.7 & 92 & 7 &  9\\\\\n",
       "\t69 &  97 & 267 &  6.3 & 92 & 7 &  8\\\\\n",
       "\t43 &  NA & 250 &  9.2 & 92 & 6 & 12\\\\\n",
       "\t102 &  NA & 222 &  8.6 & 92 & 8 & 10\\\\\n",
       "\t125 &  78 & 197 &  5.1 & 92 & 9 &  2\\\\\n",
       "\t75 &  NA & 291 & 14.9 & 91 & 7 & 14\\\\\n",
       "\t124 &  96 & 167 &  6.9 & 91 & 9 &  1\\\\\n",
       "\t40 &  71 & 291 & 13.8 & 90 & 6 &  9\\\\\n",
       "\\end{tabular}\n"
      ],
      "text/markdown": [
       "\n",
       "A data.frame: 15 × 6\n",
       "\n",
       "| <!--/--> | Ozone &lt;int&gt; | Solar.R &lt;int&gt; | Wind &lt;dbl&gt; | Temp &lt;int&gt; | Month &lt;int&gt; | Day &lt;int&gt; |\n",
       "|---|---|---|---|---|---|---|\n",
       "| 120 |  76 | 203 |  9.7 | 97 | 8 | 28 |\n",
       "| 122 |  84 | 237 |  6.3 | 96 | 8 | 30 |\n",
       "| 121 | 118 | 225 |  2.3 | 94 | 8 | 29 |\n",
       "| 123 |  85 | 188 |  6.3 | 94 | 8 | 31 |\n",
       "| 42 |  NA | 259 | 10.9 | 93 | 6 | 11 |\n",
       "| 127 |  91 | 189 |  4.6 | 93 | 9 |  4 |\n",
       "| 126 |  73 | 183 |  2.8 | 93 | 9 |  3 |\n",
       "| 70 |  97 | 272 |  5.7 | 92 | 7 |  9 |\n",
       "| 69 |  97 | 267 |  6.3 | 92 | 7 |  8 |\n",
       "| 43 |  NA | 250 |  9.2 | 92 | 6 | 12 |\n",
       "| 102 |  NA | 222 |  8.6 | 92 | 8 | 10 |\n",
       "| 125 |  78 | 197 |  5.1 | 92 | 9 |  2 |\n",
       "| 75 |  NA | 291 | 14.9 | 91 | 7 | 14 |\n",
       "| 124 |  96 | 167 |  6.9 | 91 | 9 |  1 |\n",
       "| 40 |  71 | 291 | 13.8 | 90 | 6 |  9 |\n",
       "\n"
      ],
      "text/plain": [
       "    Ozone Solar.R Wind Temp Month Day\n",
       "120  76   203      9.7 97   8     28 \n",
       "122  84   237      6.3 96   8     30 \n",
       "121 118   225      2.3 94   8     29 \n",
       "123  85   188      6.3 94   8     31 \n",
       "42   NA   259     10.9 93   6     11 \n",
       "127  91   189      4.6 93   9      4 \n",
       "126  73   183      2.8 93   9      3 \n",
       "70   97   272      5.7 92   7      9 \n",
       "69   97   267      6.3 92   7      8 \n",
       "43   NA   250      9.2 92   6     12 \n",
       "102  NA   222      8.6 92   8     10 \n",
       "125  78   197      5.1 92   9      2 \n",
       "75   NA   291     14.9 91   7     14 \n",
       "124  96   167      6.9 91   9      1 \n",
       "40   71   291     13.8 90   6      9 "
      ]
     },
     "metadata": {},
     "output_type": "display_data"
    }
   ],
   "source": [
    "sorted <- airquality[order(-airquality$Temp, -airquality$Solar.R), ]\n",
    "head(sorted, n=15)"
   ]
  },
  {
   "cell_type": "markdown",
   "id": "b377d82a",
   "metadata": {
    "pycharm": {
     "name": "#%% md\n"
    }
   },
   "source": [
    "#### Question 3\n",
    "\n",
    "* Sort the airquality data frame on its `Temp` in decreasing order and `Solar.R` in increasing order\n",
    "* Display only the first 15 lines of your table"
   ]
  },
  {
   "cell_type": "code",
   "execution_count": 4,
   "id": "162b4b27",
   "metadata": {},
   "outputs": [
    {
     "data": {
      "text/html": [
       "<table class=\"dataframe\">\n",
       "<caption>A data.frame: 15 × 6</caption>\n",
       "<thead>\n",
       "\t<tr><th></th><th scope=col>Ozone</th><th scope=col>Solar.R</th><th scope=col>Wind</th><th scope=col>Temp</th><th scope=col>Month</th><th scope=col>Day</th></tr>\n",
       "\t<tr><th></th><th scope=col>&lt;int&gt;</th><th scope=col>&lt;int&gt;</th><th scope=col>&lt;dbl&gt;</th><th scope=col>&lt;int&gt;</th><th scope=col>&lt;int&gt;</th><th scope=col>&lt;int&gt;</th></tr>\n",
       "</thead>\n",
       "<tbody>\n",
       "\t<tr><th scope=row>120</th><td> 76</td><td>203</td><td> 9.7</td><td>97</td><td>8</td><td>28</td></tr>\n",
       "\t<tr><th scope=row>122</th><td> 84</td><td>237</td><td> 6.3</td><td>96</td><td>8</td><td>30</td></tr>\n",
       "\t<tr><th scope=row>123</th><td> 85</td><td>188</td><td> 6.3</td><td>94</td><td>8</td><td>31</td></tr>\n",
       "\t<tr><th scope=row>121</th><td>118</td><td>225</td><td> 2.3</td><td>94</td><td>8</td><td>29</td></tr>\n",
       "\t<tr><th scope=row>126</th><td> 73</td><td>183</td><td> 2.8</td><td>93</td><td>9</td><td> 3</td></tr>\n",
       "\t<tr><th scope=row>127</th><td> 91</td><td>189</td><td> 4.6</td><td>93</td><td>9</td><td> 4</td></tr>\n",
       "\t<tr><th scope=row>42</th><td> NA</td><td>259</td><td>10.9</td><td>93</td><td>6</td><td>11</td></tr>\n",
       "\t<tr><th scope=row>125</th><td> 78</td><td>197</td><td> 5.1</td><td>92</td><td>9</td><td> 2</td></tr>\n",
       "\t<tr><th scope=row>102</th><td> NA</td><td>222</td><td> 8.6</td><td>92</td><td>8</td><td>10</td></tr>\n",
       "\t<tr><th scope=row>43</th><td> NA</td><td>250</td><td> 9.2</td><td>92</td><td>6</td><td>12</td></tr>\n",
       "\t<tr><th scope=row>69</th><td> 97</td><td>267</td><td> 6.3</td><td>92</td><td>7</td><td> 8</td></tr>\n",
       "\t<tr><th scope=row>70</th><td> 97</td><td>272</td><td> 5.7</td><td>92</td><td>7</td><td> 9</td></tr>\n",
       "\t<tr><th scope=row>124</th><td> 96</td><td>167</td><td> 6.9</td><td>91</td><td>9</td><td> 1</td></tr>\n",
       "\t<tr><th scope=row>75</th><td> NA</td><td>291</td><td>14.9</td><td>91</td><td>7</td><td>14</td></tr>\n",
       "\t<tr><th scope=row>101</th><td>110</td><td>207</td><td> 8.0</td><td>90</td><td>8</td><td> 9</td></tr>\n",
       "</tbody>\n",
       "</table>\n"
      ],
      "text/latex": [
       "A data.frame: 15 × 6\n",
       "\\begin{tabular}{r|llllll}\n",
       "  & Ozone & Solar.R & Wind & Temp & Month & Day\\\\\n",
       "  & <int> & <int> & <dbl> & <int> & <int> & <int>\\\\\n",
       "\\hline\n",
       "\t120 &  76 & 203 &  9.7 & 97 & 8 & 28\\\\\n",
       "\t122 &  84 & 237 &  6.3 & 96 & 8 & 30\\\\\n",
       "\t123 &  85 & 188 &  6.3 & 94 & 8 & 31\\\\\n",
       "\t121 & 118 & 225 &  2.3 & 94 & 8 & 29\\\\\n",
       "\t126 &  73 & 183 &  2.8 & 93 & 9 &  3\\\\\n",
       "\t127 &  91 & 189 &  4.6 & 93 & 9 &  4\\\\\n",
       "\t42 &  NA & 259 & 10.9 & 93 & 6 & 11\\\\\n",
       "\t125 &  78 & 197 &  5.1 & 92 & 9 &  2\\\\\n",
       "\t102 &  NA & 222 &  8.6 & 92 & 8 & 10\\\\\n",
       "\t43 &  NA & 250 &  9.2 & 92 & 6 & 12\\\\\n",
       "\t69 &  97 & 267 &  6.3 & 92 & 7 &  8\\\\\n",
       "\t70 &  97 & 272 &  5.7 & 92 & 7 &  9\\\\\n",
       "\t124 &  96 & 167 &  6.9 & 91 & 9 &  1\\\\\n",
       "\t75 &  NA & 291 & 14.9 & 91 & 7 & 14\\\\\n",
       "\t101 & 110 & 207 &  8.0 & 90 & 8 &  9\\\\\n",
       "\\end{tabular}\n"
      ],
      "text/markdown": [
       "\n",
       "A data.frame: 15 × 6\n",
       "\n",
       "| <!--/--> | Ozone &lt;int&gt; | Solar.R &lt;int&gt; | Wind &lt;dbl&gt; | Temp &lt;int&gt; | Month &lt;int&gt; | Day &lt;int&gt; |\n",
       "|---|---|---|---|---|---|---|\n",
       "| 120 |  76 | 203 |  9.7 | 97 | 8 | 28 |\n",
       "| 122 |  84 | 237 |  6.3 | 96 | 8 | 30 |\n",
       "| 123 |  85 | 188 |  6.3 | 94 | 8 | 31 |\n",
       "| 121 | 118 | 225 |  2.3 | 94 | 8 | 29 |\n",
       "| 126 |  73 | 183 |  2.8 | 93 | 9 |  3 |\n",
       "| 127 |  91 | 189 |  4.6 | 93 | 9 |  4 |\n",
       "| 42 |  NA | 259 | 10.9 | 93 | 6 | 11 |\n",
       "| 125 |  78 | 197 |  5.1 | 92 | 9 |  2 |\n",
       "| 102 |  NA | 222 |  8.6 | 92 | 8 | 10 |\n",
       "| 43 |  NA | 250 |  9.2 | 92 | 6 | 12 |\n",
       "| 69 |  97 | 267 |  6.3 | 92 | 7 |  8 |\n",
       "| 70 |  97 | 272 |  5.7 | 92 | 7 |  9 |\n",
       "| 124 |  96 | 167 |  6.9 | 91 | 9 |  1 |\n",
       "| 75 |  NA | 291 | 14.9 | 91 | 7 | 14 |\n",
       "| 101 | 110 | 207 |  8.0 | 90 | 8 |  9 |\n",
       "\n"
      ],
      "text/plain": [
       "    Ozone Solar.R Wind Temp Month Day\n",
       "120  76   203      9.7 97   8     28 \n",
       "122  84   237      6.3 96   8     30 \n",
       "123  85   188      6.3 94   8     31 \n",
       "121 118   225      2.3 94   8     29 \n",
       "126  73   183      2.8 93   9      3 \n",
       "127  91   189      4.6 93   9      4 \n",
       "42   NA   259     10.9 93   6     11 \n",
       "125  78   197      5.1 92   9      2 \n",
       "102  NA   222      8.6 92   8     10 \n",
       "43   NA   250      9.2 92   6     12 \n",
       "69   97   267      6.3 92   7      8 \n",
       "70   97   272      5.7 92   7      9 \n",
       "124  96   167      6.9 91   9      1 \n",
       "75   NA   291     14.9 91   7     14 \n",
       "101 110   207      8.0 90   8      9 "
      ]
     },
     "metadata": {},
     "output_type": "display_data"
    }
   ],
   "source": [
    "sorted_B <- airquality[order(-airquality$Temp, airquality$Solar.R),]\n",
    "head(sorted_B, n=15)"
   ]
  },
  {
   "cell_type": "markdown",
   "id": "25e9a77e",
   "metadata": {
    "pycharm": {
     "name": "#%% md\n"
    }
   },
   "source": [
    "#### Question 4\n",
    "\n",
    "* There are various ways to select a subset of observations from a data frame.\n",
    "\n",
    "* Consult your [R Reference Card](https://cran.r-project.org/doc/contrib/Baggott-refcard-v2.pdf), see `Data Selection and Manipulation` section.\n",
    "  * What operations can you use to select all observations where the temperature is 72. Give at least two different answers to this question\n",
    "\n"
   ]
  },
  {
   "cell_type": "code",
   "execution_count": 5,
   "id": "5f6a8531",
   "metadata": {
    "pycharm": {
     "name": "#%%\n"
    }
   },
   "outputs": [
    {
     "data": {
      "text/html": [
       "<style>\n",
       ".list-inline {list-style: none; margin:0; padding: 0}\n",
       ".list-inline>li {display: inline-block}\n",
       ".list-inline>li:not(:last-child)::after {content: \"\\00b7\"; padding: 0 .5ex}\n",
       "</style>\n",
       "<ol class=list-inline><li>2</li><li>48</li><li>114</li></ol>\n"
      ],
      "text/latex": [
       "\\begin{enumerate*}\n",
       "\\item 2\n",
       "\\item 48\n",
       "\\item 114\n",
       "\\end{enumerate*}\n"
      ],
      "text/markdown": [
       "1. 2\n",
       "2. 48\n",
       "3. 114\n",
       "\n",
       "\n"
      ],
      "text/plain": [
       "[1]   2  48 114"
      ]
     },
     "metadata": {},
     "output_type": "display_data"
    },
    {
     "data": {
      "text/html": [
       "<table class=\"dataframe\">\n",
       "<caption>A data.frame: 3 × 6</caption>\n",
       "<thead>\n",
       "\t<tr><th></th><th scope=col>Ozone</th><th scope=col>Solar.R</th><th scope=col>Wind</th><th scope=col>Temp</th><th scope=col>Month</th><th scope=col>Day</th></tr>\n",
       "\t<tr><th></th><th scope=col>&lt;int&gt;</th><th scope=col>&lt;int&gt;</th><th scope=col>&lt;dbl&gt;</th><th scope=col>&lt;int&gt;</th><th scope=col>&lt;int&gt;</th><th scope=col>&lt;int&gt;</th></tr>\n",
       "</thead>\n",
       "<tbody>\n",
       "\t<tr><th scope=row>2</th><td>36</td><td>118</td><td> 8.0</td><td>72</td><td>5</td><td> 2</td></tr>\n",
       "\t<tr><th scope=row>48</th><td>37</td><td>284</td><td>20.7</td><td>72</td><td>6</td><td>17</td></tr>\n",
       "\t<tr><th scope=row>114</th><td> 9</td><td> 36</td><td>14.3</td><td>72</td><td>8</td><td>22</td></tr>\n",
       "</tbody>\n",
       "</table>\n"
      ],
      "text/latex": [
       "A data.frame: 3 × 6\n",
       "\\begin{tabular}{r|llllll}\n",
       "  & Ozone & Solar.R & Wind & Temp & Month & Day\\\\\n",
       "  & <int> & <int> & <dbl> & <int> & <int> & <int>\\\\\n",
       "\\hline\n",
       "\t2 & 36 & 118 &  8.0 & 72 & 5 &  2\\\\\n",
       "\t48 & 37 & 284 & 20.7 & 72 & 6 & 17\\\\\n",
       "\t114 &  9 &  36 & 14.3 & 72 & 8 & 22\\\\\n",
       "\\end{tabular}\n"
      ],
      "text/markdown": [
       "\n",
       "A data.frame: 3 × 6\n",
       "\n",
       "| <!--/--> | Ozone &lt;int&gt; | Solar.R &lt;int&gt; | Wind &lt;dbl&gt; | Temp &lt;int&gt; | Month &lt;int&gt; | Day &lt;int&gt; |\n",
       "|---|---|---|---|---|---|---|\n",
       "| 2 | 36 | 118 |  8.0 | 72 | 5 |  2 |\n",
       "| 48 | 37 | 284 | 20.7 | 72 | 6 | 17 |\n",
       "| 114 |  9 |  36 | 14.3 | 72 | 8 | 22 |\n",
       "\n"
      ],
      "text/plain": [
       "    Ozone Solar.R Wind Temp Month Day\n",
       "2   36    118      8.0 72   5      2 \n",
       "48  37    284     20.7 72   6     17 \n",
       "114  9     36     14.3 72   8     22 "
      ]
     },
     "metadata": {},
     "output_type": "display_data"
    }
   ],
   "source": [
    "# Write your answer here\n",
    "which(airquality$Temp==72)\n",
    "\n",
    "subset(airquality, Temp==72)"
   ]
  },
  {
   "cell_type": "markdown",
   "id": "f794ee74",
   "metadata": {
    "pycharm": {
     "name": "#%% md\n"
    }
   },
   "source": [
    "#### Question 6\n",
    "\n",
    "* You may have noticed when working with the `airqulity` data that some values show as `NA`\n",
    " * `NA` stands for not available, or missing values.\n",
    "* A major part of data wrangling consists of cleaning missing values by either:\n",
    "  * Dropping the lines that have missing values\n",
    "   * Sometimes we can drop the column with missing values if the column is made of predominantly missing values\n",
    "  * Imputing the missing values, which uses educated guesses (or more complex algorithms) to fill the missing values\n",
    "  \n",
    "* Find and remove all rows that are missing values for the `Solar.R` or `Ozone` variables\n",
    "* Save the cleaned data to a new data frame called airquality_no_na\n",
    "  * How many lines have been removed?\n"
   ]
  },
  {
   "cell_type": "code",
   "execution_count": null,
   "id": "552f30af",
   "metadata": {},
   "outputs": [],
   "source": [
    "airquality_no_na <- na.omit(airquality$Ozone)\n",
    "airquality_no_na <- data.frame(airquality_no_na)\n",
    "\n",
    "#36 lines are removed"
   ]
  },
  {
   "cell_type": "markdown",
   "id": "47fab9ee",
   "metadata": {
    "pycharm": {
     "name": "#%% md\n"
    }
   },
   "source": [
    "#### Question 7\n",
    "* Let's use a different strategy and impute the missing value.\n",
    "  * replace the missing values for Solar.R using that month's average.\n",
    "  * Example:\n",
    "    * The missing value for line 6 should be replaced with the average for month 5.\n",
    "    * The missing value for line 97 should be replaced with the average for month 8."
   ]
  },
  {
   "cell_type": "code",
   "execution_count": 8,
   "id": "27c96d14",
   "metadata": {},
   "outputs": [
    {
     "data": {
      "text/html": [
       "<table class=\"dataframe\">\n",
       "<caption>A data.frame: 7 × 6</caption>\n",
       "<thead>\n",
       "\t<tr><th></th><th scope=col>Ozone</th><th scope=col>Solar.R</th><th scope=col>Wind</th><th scope=col>Temp</th><th scope=col>Month</th><th scope=col>Day</th></tr>\n",
       "\t<tr><th></th><th scope=col>&lt;int&gt;</th><th scope=col>&lt;int&gt;</th><th scope=col>&lt;dbl&gt;</th><th scope=col>&lt;int&gt;</th><th scope=col>&lt;int&gt;</th><th scope=col>&lt;int&gt;</th></tr>\n",
       "</thead>\n",
       "<tbody>\n",
       "\t<tr><th scope=row>5</th><td>NA</td><td>NA</td><td>14.3</td><td>56</td><td>5</td><td> 5</td></tr>\n",
       "\t<tr><th scope=row>6</th><td>28</td><td>NA</td><td>14.9</td><td>66</td><td>5</td><td> 6</td></tr>\n",
       "\t<tr><th scope=row>11</th><td> 7</td><td>NA</td><td> 6.9</td><td>74</td><td>5</td><td>11</td></tr>\n",
       "\t<tr><th scope=row>27</th><td>NA</td><td>NA</td><td> 8.0</td><td>57</td><td>5</td><td>27</td></tr>\n",
       "\t<tr><th scope=row>96</th><td>78</td><td>NA</td><td> 6.9</td><td>86</td><td>8</td><td> 4</td></tr>\n",
       "\t<tr><th scope=row>97</th><td>35</td><td>NA</td><td> 7.4</td><td>85</td><td>8</td><td> 5</td></tr>\n",
       "\t<tr><th scope=row>98</th><td>66</td><td>NA</td><td> 4.6</td><td>87</td><td>8</td><td> 6</td></tr>\n",
       "</tbody>\n",
       "</table>\n"
      ],
      "text/latex": [
       "A data.frame: 7 × 6\n",
       "\\begin{tabular}{r|llllll}\n",
       "  & Ozone & Solar.R & Wind & Temp & Month & Day\\\\\n",
       "  & <int> & <int> & <dbl> & <int> & <int> & <int>\\\\\n",
       "\\hline\n",
       "\t5 & NA & NA & 14.3 & 56 & 5 &  5\\\\\n",
       "\t6 & 28 & NA & 14.9 & 66 & 5 &  6\\\\\n",
       "\t11 &  7 & NA &  6.9 & 74 & 5 & 11\\\\\n",
       "\t27 & NA & NA &  8.0 & 57 & 5 & 27\\\\\n",
       "\t96 & 78 & NA &  6.9 & 86 & 8 &  4\\\\\n",
       "\t97 & 35 & NA &  7.4 & 85 & 8 &  5\\\\\n",
       "\t98 & 66 & NA &  4.6 & 87 & 8 &  6\\\\\n",
       "\\end{tabular}\n"
      ],
      "text/markdown": [
       "\n",
       "A data.frame: 7 × 6\n",
       "\n",
       "| <!--/--> | Ozone &lt;int&gt; | Solar.R &lt;int&gt; | Wind &lt;dbl&gt; | Temp &lt;int&gt; | Month &lt;int&gt; | Day &lt;int&gt; |\n",
       "|---|---|---|---|---|---|---|\n",
       "| 5 | NA | NA | 14.3 | 56 | 5 |  5 |\n",
       "| 6 | 28 | NA | 14.9 | 66 | 5 |  6 |\n",
       "| 11 |  7 | NA |  6.9 | 74 | 5 | 11 |\n",
       "| 27 | NA | NA |  8.0 | 57 | 5 | 27 |\n",
       "| 96 | 78 | NA |  6.9 | 86 | 8 |  4 |\n",
       "| 97 | 35 | NA |  7.4 | 85 | 8 |  5 |\n",
       "| 98 | 66 | NA |  4.6 | 87 | 8 |  6 |\n",
       "\n"
      ],
      "text/plain": [
       "   Ozone Solar.R Wind Temp Month Day\n",
       "5  NA    NA      14.3 56   5      5 \n",
       "6  28    NA      14.9 66   5      6 \n",
       "11  7    NA       6.9 74   5     11 \n",
       "27 NA    NA       8.0 57   5     27 \n",
       "96 78    NA       6.9 86   8      4 \n",
       "97 35    NA       7.4 85   8      5 \n",
       "98 66    NA       4.6 87   8      6 "
      ]
     },
     "metadata": {},
     "output_type": "display_data"
    }
   ],
   "source": [
    "airquality[missing_Solar.R,]"
   ]
  },
  {
   "cell_type": "code",
   "execution_count": 39,
   "id": "a1741133",
   "metadata": {
    "scrolled": false
   },
   "outputs": [],
   "source": [
    "solar_r_may <- subset(airquality, Month==5)$Solar.R"
   ]
  },
  {
   "cell_type": "code",
   "execution_count": 17,
   "id": "27d18a8c",
   "metadata": {},
   "outputs": [],
   "source": [
    "solar_r_aug <- subset(airquality, Month==8)$Solar.R"
   ]
  },
  {
   "cell_type": "code",
   "execution_count": 40,
   "id": "2b7518f8",
   "metadata": {},
   "outputs": [],
   "source": [
    "mean_may <- mean(solar_r_may, na.rm=TRUE)"
   ]
  },
  {
   "cell_type": "code",
   "execution_count": 18,
   "id": "2934523d",
   "metadata": {},
   "outputs": [],
   "source": [
    "mean_aug <- mean(solar_r_aug, na.rm=TRUE)"
   ]
  },
  {
   "cell_type": "code",
   "execution_count": null,
   "id": "96cb44ad",
   "metadata": {},
   "outputs": [],
   "source": []
  }
 ],
 "metadata": {
  "kernelspec": {
   "display_name": "R",
   "language": "R",
   "name": "ir"
  },
  "language_info": {
   "codemirror_mode": "r",
   "file_extension": ".r",
   "mimetype": "text/x-r-source",
   "name": "R",
   "pygments_lexer": "r",
   "version": "4.2.1"
  }
 },
 "nbformat": 4,
 "nbformat_minor": 5
}
