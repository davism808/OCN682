{
 "cells": [
  {
   "cell_type": "code",
   "execution_count": null,
   "id": "de0b52d1",
   "metadata": {
    "pycharm": {
     "name": "#%%\n"
    }
   },
   "outputs": [],
   "source": [
    "# library(tidyverse)\n",
    "library(tidyverse)"
   ]
  },
  {
   "cell_type": "markdown",
   "id": "526a84d8",
   "metadata": {
    "pycharm": {
     "name": "#%% md\n"
    }
   },
   "source": [
    "### Q0\n",
    "\n",
    "* Draw a concepts diagram that uses all the following terminology covered in this module\n",
    "\n",
    "* Probability mass function, outcome, expriment, sample space, Gaussian, probanility mass funciton, probability distribution, binomial, maximum likelyhood, parameters, mean and variance, lambda, sample, p-value"
   ]
  },
  {
   "cell_type": "code",
   "execution_count": 1,
   "id": "ef2e6b4d",
   "metadata": {
    "pycharm": {
     "name": "#%%\n"
    }
   },
   "outputs": [],
   "source": [
    "### Write your code here\n",
    "\n"
   ]
  },
  {
   "cell_type": "markdown",
   "id": "b4207bca",
   "metadata": {
    "pycharm": {
     "name": "#%% md\n"
    }
   },
   "source": [
    "###  Q1\n",
    "Write a function that returns the sample space for the experiment consisting of samplign a 4 digit PIN\n",
    "  * Call your function get_all_perms\n",
    "\n",
    "  * Essentially, your function does not take any arguments but returns the sample space consisting of all the four digit numbers\n",
    "   \n",
    "  * The function `expand.grid` expand.grid creates a data frame from all combinations of the supplied vectors or factors. For example:\n",
    " \n",
    "  ```expand.grid(0:1, 0:1, 0:1)```\n",
    "\n",
    "* generates  \n",
    "\n",
    "![](https://www.dropbox.com/s/cnlt4fg8rxd01d6/expand.grid.png?dl=1)\n",
    " \n",
    "\n",
    "* Strategy, use `expand.grid` to generate the permutation for four verctation in the range 0:9\n",
    "  * Return the number of rows in that `data.frame`\n",
    "\n",
    "  "
   ]
  },
  {
   "cell_type": "code",
   "execution_count": 83,
   "id": "e559210c",
   "metadata": {
    "pycharm": {
     "name": "#%%\n"
    }
   },
   "outputs": [],
   "source": [
    "### Write your code here\n",
    "\n",
    "get_all_perms <- expand.grid(0:9, 0:9, 0:9, 0:9)"
   ]
  },
  {
   "cell_type": "code",
   "execution_count": 29,
   "id": "5c7bf775",
   "metadata": {
    "pycharm": {
     "name": "#%%\n"
    }
   },
   "outputs": [
    {
     "data": {
      "text/html": [
       "10000"
      ],
      "text/latex": [
       "10000"
      ],
      "text/markdown": [
       "10000"
      ],
      "text/plain": [
       "[1] 10000"
      ]
     },
     "metadata": {},
     "output_type": "display_data"
    }
   ],
   "source": [
    "# Running this should return 10,000\n",
    "nrow(get_all_perms)"
   ]
  },
  {
   "cell_type": "markdown",
   "id": "7b5f5dec",
   "metadata": {
    "pycharm": {
     "name": "#%% md\n"
    }
   },
   "source": [
    "###  Q2\n",
    "\n",
    "The function above is not very useful since it always computes the same thing, namely the number of possible permutation of digits. One way to make it more useful is by passing as an argument the number of digits to consider, i.e., the number of columns in `expand.grid`. Let;s call that param `size`, which by default should be `4`. For exmaple:\n",
    "\n",
    "*  `get_all_perms(size = 1 )` will return all the number of size 1 (0-9)\n",
    "*  `get_all_perms(size = 3 )` will return all the permutations of size 3 (000 - to 999)\n",
    "\n",
    "\n",
    "* Hint: `expand.grid` requires the number of input parameters to match the permutation length. We need to automate that so that the number of vectors passed as input matches the `size` values passed into `get_all_perms`\n",
    "  * We can do that using `replicate`\n",
    "  * `replicate(2, c(1,2,3), simplify=FALSE)` will repeat the vector `c(1,2,3)` twice\n",
    "    * We need to pass `replicate` the value `simplify=FALSE` so that it does not convert the output for us into a matrix\n",
    "  * Use pipe (`%>%`) pass the output of `replicate` into expand.grid\n",
    "  * Make sure replicated generate the correct input for exand.grid\n",
    "  "
   ]
  },
  {
   "cell_type": "code",
   "execution_count": 3,
   "id": "a45bbd1d",
   "metadata": {
    "pycharm": {
     "name": "#%%\n"
    }
   },
   "outputs": [],
   "source": [
    "### Write your code here\n",
    "\n"
   ]
  },
  {
   "cell_type": "markdown",
   "id": "d826dbff",
   "metadata": {
    "pycharm": {
     "name": "#%% md\n"
    }
   },
   "source": [
    "###  Q3\n",
    "\n",
    "* Given a fish disease that occurs with a probability of p= 0.43\n",
    "* You sampled 340 animals\n",
    "* How many of these animals should you expect to see the disease in?\n",
    "* Hint: you will need to compute the probability of each element of the sample space and find the value that has the highest probability"
   ]
  },
  {
   "cell_type": "code",
   "execution_count": 85,
   "id": "8ec880ab",
   "metadata": {
    "pycharm": {
     "name": "#%%\n"
    }
   },
   "outputs": [],
   "source": [
    "### Write your code here\n",
    "fish <- c(0:1)\n",
    "sample_fish <- sample(c(\"healthy\", \"diseased\"), size=340, replace=TRUE, prob=c(0.43, 0.57))"
   ]
  },
  {
   "cell_type": "markdown",
   "id": "2e17347b",
   "metadata": {
    "pycharm": {
     "name": "#%% md\n"
    }
   },
   "source": [
    "### Q4\n",
    "Plot the two following distributions:\n",
    "\n",
    "$$\n",
    "x \\sim \\mathcal{N}(10, 0.5) \\\\\n",
    "y \\sim \\mathcal{N}(10.2, 0.5) \\\\\n",
    "$$\n",
    "\n",
    "* Your plot should look like the following\n",
    "![](https://www.dropbox.com/s/psrjtl6abjla7z5/sample_gaussian_plot.png?dl=1)\n",
    "\n",
    "\n",
    "* Draw 40 values from the first distribution and store them in a variable called `x_sample`\n",
    "* Draw 40 values from the second distribution and store them in a variable called `y_sample`\n",
    "  * make sure you run the following line before you sample data\n",
    "  ```set.seed(42)```\n",
    " \n",
    "* Do a `t-`test to compute the `x_sample` and `y_sample`\n",
    "  * A `t-`test compares two vectors of values and predicts if the two vectors are from the same distribution\n",
    "  * The format for the t-test in R is\n",
    " \n",
    " `t.test(x,y)` where `x` an `y` are the vectors of values we would like to compare.\n",
    "  * Look at the `p-value`, if it's smaller than say 0.05, then there is a statistically significant difference between the two datasets.\n",
    "\n",
    "* Do you agree with the conclusion of the `t-test`. In other words, would you be comfortable reporting in a publication that the data in `x_sample` and `y_sample` are statistically different?"
   ]
  },
  {
   "cell_type": "code",
   "execution_count": 79,
   "id": "b361408e",
   "metadata": {},
   "outputs": [
    {
     "data": {
      "text/html": [
       "<style>\n",
       ".list-inline {list-style: none; margin:0; padding: 0}\n",
       ".list-inline>li {display: inline-block}\n",
       ".list-inline>li:not(:last-child)::after {content: \"\\00b7\"; padding: 0 .5ex}\n",
       "</style>\n",
       "<ol class=list-inline><li>10</li><li>9</li><li>8</li><li>7</li><li>6</li><li>5</li><li>4</li><li>3</li><li>2</li><li>1</li></ol>\n"
      ],
      "text/latex": [
       "\\begin{enumerate*}\n",
       "\\item 10\n",
       "\\item 9\n",
       "\\item 8\n",
       "\\item 7\n",
       "\\item 6\n",
       "\\item 5\n",
       "\\item 4\n",
       "\\item 3\n",
       "\\item 2\n",
       "\\item 1\n",
       "\\end{enumerate*}\n"
      ],
      "text/markdown": [
       "1. 10\n",
       "2. 9\n",
       "3. 8\n",
       "4. 7\n",
       "5. 6\n",
       "6. 5\n",
       "7. 4\n",
       "8. 3\n",
       "9. 2\n",
       "10. 1\n",
       "\n",
       "\n"
      ],
      "text/plain": [
       " [1] 10  9  8  7  6  5  4  3  2  1"
      ]
     },
     "metadata": {},
     "output_type": "display_data"
    }
   ],
   "source": [
    "seq(10, 0.5)"
   ]
  },
  {
   "cell_type": "code",
   "execution_count": 81,
   "id": "756f4ec4",
   "metadata": {
    "pycharm": {
     "name": "#%%\n"
    },
    "scrolled": true
   },
   "outputs": [],
   "source": [
    "# Write the code to draw the plot here\n",
    "set.seed(42)\n",
    "x_sample <- rnorm(40, 10, 0.5)\n",
    "y_sample <- rnorm(40, 10.2, 0.5)"
   ]
  },
  {
   "cell_type": "code",
   "execution_count": 70,
   "id": "67810bdb",
   "metadata": {
    "pycharm": {
     "name": "#%%\n"
    }
   },
   "outputs": [
    {
     "data": {
      "text/plain": [
       "\n",
       "\tWelch Two Sample t-test\n",
       "\n",
       "data:  x_sample and y_sample\n",
       "t = -3.176, df = 62.584, p-value = 0.002319\n",
       "alternative hypothesis: true difference in means is not equal to 0\n",
       "95 percent confidence interval:\n",
       " -1.9929059 -0.4534528\n",
       "sample estimates:\n",
       "  mean of x   mean of y \n",
       "-0.03953589  1.18364349 \n"
      ]
     },
     "metadata": {},
     "output_type": "display_data"
    }
   ],
   "source": [
    "# Write the code to run your t-test here\n",
    "t.test(x_sample, y_sample)"
   ]
  },
  {
   "cell_type": "markdown",
   "id": "9fedba3e",
   "metadata": {
    "pycharm": {
     "name": "#%% md\n"
    }
   },
   "source": [
    "### Q5\n",
    "\n",
    "* We have used the function `dnorm` to plot the bell-shaped curve for a distribution $ x \\sim \\mathcal{N}(10, 0.5)$\n",
    "  * Use seq(8, 12, 0.1) to generate the x-axis values\n",
    "  * The pdf should look like the following\n",
    "\n",
    "![](https://www.dropbox.com/s/jl2c2atpkxze7ev/sample_pdf_sum_question.png?dl=1)\n",
    "\n",
    "* Use `dnorm` to compute the probability density for each point along the $x-$axis generated using `seq()` above\n",
    "  * What do you notice? Hint, sum the values obtained\n",
    "  \n"
   ]
  },
  {
   "cell_type": "code",
   "execution_count": 77,
   "id": "e6acec6e",
   "metadata": {
    "pycharm": {
     "name": "#%%\n"
    }
   },
   "outputs": [],
   "source": [
    "# Write the code to run your t-test here\n",
    "\n",
    "dnorm()"
   ]
  },
  {
   "cell_type": "markdown",
   "id": "99b70ba3",
   "metadata": {
    "pycharm": {
     "name": "#%%\n"
    }
   },
   "source": [
    "### Q6 Optional Challenge\n",
    "\n",
    "What transformation can you carry out to tranform the value to actual probabilities, i.e., values that sum to 1.  Write code to test whether your hypothesis works."
   ]
  },
  {
   "cell_type": "code",
   "execution_count": null,
   "id": "7ec5aa60",
   "metadata": {},
   "outputs": [],
   "source": [
    "# Write the code here"
   ]
  }
 ],
 "metadata": {
  "kernelspec": {
   "display_name": "R",
   "language": "R",
   "name": "ir"
  },
  "language_info": {
   "codemirror_mode": "r",
   "file_extension": ".r",
   "mimetype": "text/x-r-source",
   "name": "R",
   "pygments_lexer": "r",
   "version": "4.2.1"
  }
 },
 "nbformat": 4,
 "nbformat_minor": 5
}
