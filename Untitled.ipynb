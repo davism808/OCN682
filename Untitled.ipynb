{
 "cells": [
  {
   "cell_type": "code",
   "execution_count": 1,
   "id": "40d34b2c",
   "metadata": {},
   "outputs": [],
   "source": [
    "sec_per_min <- 60\n",
    "sec_per_hour <- sec_per_min*60\n",
    "sec_per_day <- sec_per_hour*24\n",
    "sec_per_year <- sec_per_hour*365"
   ]
  },
  {
   "cell_type": "code",
   "execution_count": 2,
   "id": "7bb25c06",
   "metadata": {},
   "outputs": [
    {
     "data": {
      "text/html": [
       "1314000"
      ],
      "text/latex": [
       "1314000"
      ],
      "text/markdown": [
       "1314000"
      ],
      "text/plain": [
       "[1] 1314000"
      ]
     },
     "metadata": {},
     "output_type": "display_data"
    }
   ],
   "source": [
    "sec_per_year"
   ]
  },
  {
   "cell_type": "code",
   "execution_count": 4,
   "id": "563a7d48",
   "metadata": {},
   "outputs": [
    {
     "data": {
      "text/html": [
       "<table class=\"dataframe\">\n",
       "<caption>A matrix: 3 × 2 of type dbl</caption>\n",
       "<tbody>\n",
       "\t<tr><td>1</td><td>4</td></tr>\n",
       "\t<tr><td>2</td><td>5</td></tr>\n",
       "\t<tr><td>3</td><td>6</td></tr>\n",
       "</tbody>\n",
       "</table>\n"
      ],
      "text/latex": [
       "A matrix: 3 × 2 of type dbl\n",
       "\\begin{tabular}{ll}\n",
       "\t 1 & 4\\\\\n",
       "\t 2 & 5\\\\\n",
       "\t 3 & 6\\\\\n",
       "\\end{tabular}\n"
      ],
      "text/markdown": [
       "\n",
       "A matrix: 3 × 2 of type dbl\n",
       "\n",
       "| 1 | 4 |\n",
       "| 2 | 5 |\n",
       "| 3 | 6 |\n",
       "\n"
      ],
      "text/plain": [
       "     [,1] [,2]\n",
       "[1,] 1    4   \n",
       "[2,] 2    5   \n",
       "[3,] 3    6   "
      ]
     },
     "metadata": {},
     "output_type": "display_data"
    }
   ],
   "source": [
    "matrix(c(1,2,3,4,5,6), nrow=3)"
   ]
  },
  {
   "cell_type": "code",
   "execution_count": 5,
   "id": "010f9373",
   "metadata": {},
   "outputs": [
    {
     "ename": "ERROR",
     "evalue": "Error in rowname(matrix) = c(\"row_1\", \"row_2\", \"row_3\"): could not find function \"rowname<-\"\n",
     "output_type": "error",
     "traceback": [
      "Error in rowname(matrix) = c(\"row_1\", \"row_2\", \"row_3\"): could not find function \"rowname<-\"\nTraceback:\n"
     ]
    }
   ],
   "source": [
    "matrix<- matrix\n",
    "rowname(matrix)=c(\"row_1\", \"row_2\", \"row_3\")\n",
    "colname(matrix)=c(\"col_1\", \"col_2\")"
   ]
  },
  {
   "cell_type": "code",
   "execution_count": null,
   "id": "5dc2f1ca",
   "metadata": {},
   "outputs": [],
   "source": []
  }
 ],
 "metadata": {
  "kernelspec": {
   "display_name": "R",
   "language": "R",
   "name": "ir"
  },
  "language_info": {
   "codemirror_mode": "r",
   "file_extension": ".r",
   "mimetype": "text/x-r-source",
   "name": "R",
   "pygments_lexer": "r",
   "version": "4.2.1"
  }
 },
 "nbformat": 4,
 "nbformat_minor": 5
}
